{
 "cells": [
  {
   "cell_type": "code",
   "execution_count": 1,
   "metadata": {},
   "outputs": [
    {
     "name": "stderr",
     "output_type": "stream",
     "text": [
      "C:\\ProgramData\\Anaconda3\\lib\\site-packages\\sklearn\\externals\\joblib\\__init__.py:15: DeprecationWarning: sklearn.externals.joblib is deprecated in 0.21 and will be removed in 0.23. Please import this functionality directly from joblib, which can be installed with: pip install joblib. If this warning is raised when loading pickled models, you may need to re-serialize those models with scikit-learn 0.21+.\n",
      "  warnings.warn(msg, category=DeprecationWarning)\n"
     ]
    }
   ],
   "source": [
    "#-------------辅助工具-------------#\n",
    "import os #文档路径\n",
    "import numpy as np\n",
    "import pandas as pd\n",
    "pd.options.display.max_columns = None  # 显示所有列\n",
    "pd.set_option('display.float_format', lambda x: '%.4f' % x)  # 取消科学计数法\n",
    "\n",
    "from time import time #计时\n",
    "import datetime\n",
    "\n",
    "from IPython.core.interactiveshell import InteractiveShell\n",
    "InteractiveShell.ast_node_interactivity = \"all\" #显示所有输出\n",
    "\n",
    "import pickle #训练模型的保存与读取\n",
    "from sklearn.externals import joblib #保存训练模型\n",
    "\n",
    "#-------------数据可视化工具-------------#\n",
    "import matplotlib.pyplot as plt\n",
    "import seaborn as sns\n",
    "\n",
    "plt.rcParams['font.sans-serif'] = ['Simhei'] # 解决中文乱码问题\n",
    "plt.rcParams['axes.unicode_minus'] = False # 解决坐标轴刻度负号乱码\n",
    "\n",
    "#-------------数据预处理工具-------------#\n",
    "from sklearn.preprocessing import OrdinalEncoder\n",
    "from sklearn.preprocessing import LabelEncoder #标签编码\n",
    "from sklearn.preprocessing import OneHotEncoder #独热编码\n",
    "from sklearn.preprocessing import StandardScaler #标准化\n",
    "\n",
    "#-------------建模工具-------------#\n",
    "from sklearn.model_selection import train_test_split  # 划分训练集和测试集\n",
    "from sklearn.model_selection import cross_val_score #交叉验证\n",
    "from sklearn.model_selection import GridSearchCV #网格搜索\n",
    "\n",
    "from sklearn.linear_model import LogisticRegression #逻辑回归\n",
    "from sklearn.tree import DecisionTreeClassifier #决策树\n",
    "from sklearn import tree\n",
    "import graphviz #画决策树\n",
    "import xgboost #也可作为数据清洗工具，填充缺失值；能接受输入空间存在空值\n",
    "from sklearn.neural_network import MLPClassifier #多层感知神经网络\n",
    "\n",
    "from sklearn.pipeline import Pipeline #管道链\n",
    "from sklearn.pipeline import make_pipeline\n",
    "\n",
    "#-------------模型评估工具-------------#\n",
    "from sklearn.metrics import classification_report\n",
    "from sklearn.metrics import roc_curve\n",
    "from sklearn.metrics import roc_auc_score"
   ]
  },
  {
   "cell_type": "markdown",
   "metadata": {},
   "source": [
    "### （一）数据预处理"
   ]
  },
  {
   "cell_type": "code",
   "execution_count": 2,
   "metadata": {},
   "outputs": [
    {
     "name": "stdout",
     "output_type": "stream",
     "text": [
      "<class 'pandas.core.frame.DataFrame'>\n",
      "RangeIndex: 2000 entries, 0 to 1999\n",
      "Data columns (total 12 columns):\n",
      "客户ID          2000 non-null int64\n",
      "产品使用分数        2000 non-null object\n",
      "用户地区          2000 non-null object\n",
      "性别            2000 non-null object\n",
      "年龄            2000 non-null object\n",
      "使用累计时间        2000 non-null object\n",
      "点数余额          2000 non-null object\n",
      "产品服务使用量       2000 non-null object\n",
      "是否使用信用卡付月费    2000 non-null object\n",
      "是否为活跃用户       2000 non-null object\n",
      "估计薪资          2000 non-null object\n",
      "购买与否          2000 non-null object\n",
      "dtypes: int64(1), object(11)\n",
      "memory usage: 187.6+ KB\n"
     ]
    }
   ],
   "source": [
    "test_data=pd.read_csv('./df_test.csv')\n",
    "test_data.columns=['客户ID','产品使用分数','用户地区','性别','年龄','使用累计时间','点数余额','产品服务使用量','是否使用信用卡付月费','是否为活跃用户','估计薪资','购买与否']\n",
    "test_data.info()"
   ]
  },
  {
   "cell_type": "code",
   "execution_count": 3,
   "metadata": {},
   "outputs": [
    {
     "name": "stdout",
     "output_type": "stream",
     "text": [
      "客户ID 的取值分布：\n",
      "6143    1\n",
      "5466    1\n",
      "5438    1\n",
      "7489    1\n",
      "9467    1\n",
      "       ..\n",
      "2728    1\n",
      "4777    1\n",
      "683     1\n",
      "6828    1\n",
      "6145    1\n",
      "Name: 客户ID, Length: 2000, dtype: int64\n",
      "----------------------------------\n",
      "产品使用分数 的取值分布：\n",
      "?      541\n",
      "850     25\n",
      "678     14\n",
      "682     12\n",
      "656     11\n",
      "      ... \n",
      "434      1\n",
      "844      1\n",
      "699      1\n",
      "560      1\n",
      "493      1\n",
      "Name: 产品使用分数, Length: 387, dtype: int64\n",
      "----------------------------------\n",
      "用户地区 的取值分布：\n",
      "Taipei      745\n",
      "?           587\n",
      "Taichung    344\n",
      "Tainan      324\n",
      "Name: 用户地区, dtype: int64\n",
      "----------------------------------\n",
      "性别 的取值分布：\n",
      "Male      732\n",
      "Female    679\n",
      "?         589\n",
      "Name: 性别, dtype: int64\n",
      "----------------------------------\n",
      "年龄 的取值分布：\n",
      "?     564\n",
      "38     81\n",
      "33     76\n",
      "34     73\n",
      "37     66\n",
      "     ... \n",
      "76      1\n",
      "79      1\n",
      "75      1\n",
      "77      1\n",
      "88      1\n",
      "Name: 年龄, Length: 64, dtype: int64\n",
      "----------------------------------\n",
      "使用累计时间 的取值分布：\n",
      "?     569\n",
      "1     163\n",
      "2     159\n",
      "7     159\n",
      "9     147\n",
      "5     145\n",
      "8     144\n",
      "6     140\n",
      "3     129\n",
      "4     120\n",
      "10     68\n",
      "0      57\n",
      "Name: 使用累计时间, dtype: int64\n",
      "----------------------------------\n",
      "点数余额 的取值分布：\n",
      "?            591\n",
      "0            518\n",
      "123157.95      1\n",
      "167983.17      1\n",
      "138008.06      1\n",
      "            ... \n",
      "127258.79      1\n",
      "128065.12      1\n",
      "127631.62      1\n",
      "184926.61      1\n",
      "78398.69       1\n",
      "Name: 点数余额, Length: 893, dtype: int64\n",
      "----------------------------------\n",
      "产品服务使用量 的取值分布：\n",
      "1    731\n",
      "2    628\n",
      "?    590\n",
      "3     40\n",
      "4     11\n",
      "Name: 产品服务使用量, dtype: int64\n",
      "----------------------------------\n",
      "是否使用信用卡付月费 的取值分布：\n",
      "1    958\n",
      "?    628\n",
      "0    414\n",
      "Name: 是否使用信用卡付月费, dtype: int64\n",
      "----------------------------------\n",
      "是否为活跃用户 的取值分布：\n",
      "1    719\n",
      "0    697\n",
      "?    584\n",
      "Name: 是否为活跃用户, dtype: int64\n",
      "----------------------------------\n",
      "估计薪资 的取值分布：\n",
      "?            601\n",
      "102135.92      1\n",
      "113645.4       1\n",
      "21016          1\n",
      "161479.19      1\n",
      "            ... \n",
      "24533.89       1\n",
      "75860.01       1\n",
      "94898.1        1\n",
      "76373.38       1\n",
      "121451.21      1\n",
      "Name: 估计薪资, Length: 1400, dtype: int64\n",
      "----------------------------------\n",
      "购买与否 的取值分布：\n",
      "Withheld    2000\n",
      "Name: 购买与否, dtype: int64\n",
      "----------------------------------\n"
     ]
    }
   ],
   "source": [
    "for cate in test_data.columns:\n",
    "    print(cate,'的取值分布：')\n",
    "    print(test_data[cate].value_counts())\n",
    "    print('----------------------------------')\n",
    "# 结论：多个字段有错误值?"
   ]
  },
  {
   "cell_type": "code",
   "execution_count": 4,
   "metadata": {},
   "outputs": [
    {
     "name": "stdout",
     "output_type": "stream",
     "text": [
      "<class 'pandas.core.frame.DataFrame'>\n",
      "RangeIndex: 2000 entries, 0 to 1999\n",
      "Data columns (total 11 columns):\n",
      "产品使用分数        1459 non-null object\n",
      "用户地区          1413 non-null object\n",
      "性别            1411 non-null object\n",
      "年龄            1436 non-null object\n",
      "使用累计时间        1431 non-null object\n",
      "点数余额          1409 non-null object\n",
      "产品服务使用量       1410 non-null object\n",
      "是否使用信用卡付月费    1372 non-null object\n",
      "是否为活跃用户       1416 non-null object\n",
      "估计薪资          1399 non-null object\n",
      "购买与否          2000 non-null object\n",
      "dtypes: object(11)\n",
      "memory usage: 172.0+ KB\n"
     ]
    }
   ],
   "source": [
    "# 错误值处理\n",
    "data_clean_1=test_data.drop(['客户ID'],axis=1)\n",
    "data_clean_1=data_clean_1.replace('?',np.nan)#填充空值\n",
    "data_clean_1.info()"
   ]
  },
  {
   "cell_type": "code",
   "execution_count": 5,
   "metadata": {},
   "outputs": [
    {
     "name": "stdout",
     "output_type": "stream",
     "text": [
      "<class 'pandas.core.frame.DataFrame'>\n",
      "RangeIndex: 2000 entries, 0 to 1999\n",
      "Data columns (total 11 columns):\n",
      "产品使用分数        1459 non-null float64\n",
      "用户地区          1413 non-null object\n",
      "性别            1411 non-null object\n",
      "年龄            1436 non-null float64\n",
      "使用累计时间        1431 non-null object\n",
      "点数余额          1409 non-null float64\n",
      "产品服务使用量       1410 non-null object\n",
      "是否使用信用卡付月费    1372 non-null object\n",
      "是否为活跃用户       1416 non-null object\n",
      "估计薪资          1399 non-null float64\n",
      "购买与否          2000 non-null object\n",
      "dtypes: float64(4), object(7)\n",
      "memory usage: 172.0+ KB\n"
     ]
    }
   ],
   "source": [
    "# 转化数据类型\n",
    "data_clean_1['产品使用分数']=data_clean_1['产品使用分数'].astype(dtype='float')\n",
    "data_clean_1['年龄']=data_clean_1['年龄'].astype(dtype='float')\n",
    "data_clean_1['点数余额']=data_clean_1['点数余额'].astype(dtype='float')\n",
    "data_clean_1['估计薪资']=data_clean_1['估计薪资'].astype(dtype='float')\n",
    "data_clean_1.info()"
   ]
  },
  {
   "cell_type": "code",
   "execution_count": 6,
   "metadata": {
    "collapsed": true
   },
   "outputs": [
    {
     "data": {
      "text/plain": [
       "<matplotlib.axes._subplots.AxesSubplot at 0x2432fbcc148>"
      ]
     },
     "execution_count": 6,
     "metadata": {},
     "output_type": "execute_result"
    },
    {
     "data": {
      "image/png": "[encoded data removed]",
      "text/plain": [
       "<Figure size 432x288 with 1 Axes>"
      ]
     },
     "metadata": {
      "needs_background": "light"
     },
     "output_type": "display_data"
    },
    {
     "data": {
      "text/plain": [
       "<matplotlib.axes._subplots.AxesSubplot at 0x2432ff29548>"
      ]
     },
     "execution_count": 6,
     "metadata": {},
     "output_type": "execute_result"
    },
    {
     "data": {
      "image/png": "[encoded data removed]",
      "text/plain": [
       "<Figure size 432x288 with 1 Axes>"
      ]
     },
     "metadata": {
      "needs_background": "light"
     },
     "output_type": "display_data"
    },
    {
     "data": {
      "text/plain": [
       "<matplotlib.axes._subplots.AxesSubplot at 0x2432ffb44c8>"
      ]
     },
     "execution_count": 6,
     "metadata": {},
     "output_type": "execute_result"
    },
    {
     "data": {
      "image/png": "[encoded data removed]",
      "text/plain": [
       "<Figure size 432x288 with 1 Axes>"
      ]
     },
     "metadata": {
      "needs_background": "light"
     },
     "output_type": "display_data"
    },
    {
     "data": {
      "text/plain": [
       "<matplotlib.axes._subplots.AxesSubplot at 0x2433001b248>"
      ]
     },
     "execution_count": 6,
     "metadata": {},
     "output_type": "execute_result"
    },
    {
     "data": {
      "image/png": "[encoded data removed]",
      "text/plain": [
       "<Figure size 432x288 with 1 Axes>"
      ]
     },
     "metadata": {
      "needs_background": "light"
     },
     "output_type": "display_data"
    }
   ],
   "source": [
    "# 箱线图，即四分位法\n",
    "\n",
    "cates=['产品使用分数', '年龄', '点数余额','估计薪资']\n",
    "for cate in cates:\n",
    "    data_clean_1[cate].plot(kind='box')\n",
    "    plt.show()"
   ]
  },
  {
   "cell_type": "markdown",
   "metadata": {},
   "source": [
    "(1)类别特征填充"
   ]
  },
  {
   "cell_type": "code",
   "execution_count": 7,
   "metadata": {},
   "outputs": [
    {
     "name": "stdout",
     "output_type": "stream",
     "text": [
      "<class 'pandas.core.frame.DataFrame'>\n",
      "RangeIndex: 2000 entries, 0 to 1999\n",
      "Data columns (total 11 columns):\n",
      "产品使用分数        1459 non-null float64\n",
      "用户地区          2000 non-null object\n",
      "性别            2000 non-null object\n",
      "年龄            1436 non-null float64\n",
      "使用累计时间        2000 non-null object\n",
      "点数余额          1409 non-null float64\n",
      "产品服务使用量       2000 non-null object\n",
      "是否使用信用卡付月费    2000 non-null object\n",
      "是否为活跃用户       2000 non-null object\n",
      "估计薪资          1399 non-null float64\n",
      "购买与否          2000 non-null object\n",
      "dtypes: float64(4), object(7)\n",
      "memory usage: 172.0+ KB\n"
     ]
    }
   ],
   "source": [
    "#构造特征空间与标签\n",
    "\n",
    "fill_data=data_clean_1.copy()\n",
    "\n",
    "#分类型缺失值填充为99\n",
    "\n",
    "cates=['用户地区', '性别', '使用累计时间','产品服务使用量', '是否使用信用卡付月费','是否为活跃用户']\n",
    "fill_data[cates]=fill_data[cates].fillna('99')\n",
    "fill_data.info()"
   ]
  },
  {
   "cell_type": "code",
   "execution_count": 8,
   "metadata": {},
   "outputs": [],
   "source": [
    "# 构造算法填充的特征，独热编码，删除cate-99的特征\n",
    "\n",
    "region_features=pd.get_dummies(fill_data['用户地区'],prefix='用户地区')\n",
    "region_features=region_features.drop(['用户地区_99'],axis=1)\n",
    "\n",
    "sex_features=pd.get_dummies(fill_data['性别'],prefix='性别')\n",
    "sex_features=sex_features.drop(['性别_99'],axis=1)\n",
    "\n",
    "usetime_features=pd.get_dummies(fill_data['使用累计时间'],prefix='使用累计时间')\n",
    "usetime_features=usetime_features.drop(['使用累计时间_99'],axis=1)\n",
    "\n",
    "service_features=pd.get_dummies(fill_data['产品服务使用量'],prefix='产品服务使用量')\n",
    "service_features=service_features.drop(['产品服务使用量_99'],axis=1)\n",
    "\n",
    "credict_features=pd.get_dummies(fill_data['是否使用信用卡付月费'],prefix='是否使用信用卡付月费')\n",
    "credict_features=credict_features.drop(['是否使用信用卡付月费_99'],axis=1)\n",
    "\n",
    "active_features=pd.get_dummies(fill_data['是否为活跃用户'],prefix='是否为活跃用户')\n",
    "active_features=active_features.drop(['是否为活跃用户_99'],axis=1)"
   ]
  },
  {
   "cell_type": "code",
   "execution_count": 9,
   "metadata": {
    "collapsed": true
   },
   "outputs": [
    {
     "name": "stderr",
     "output_type": "stream",
     "text": [
      "C:\\ProgramData\\Anaconda3\\lib\\site-packages\\ipykernel_launcher.py:7: SettingWithCopyWarning: \n",
      "A value is trying to be set on a copy of a slice from a DataFrame.\n",
      "Try using .loc[row_indexer,col_indexer] = value instead\n",
      "\n",
      "See the caveats in the documentation: http://pandas.pydata.org/pandas-docs/stable/user_guide/indexing.html#returning-a-view-versus-a-copy\n",
      "  import sys\n",
      "C:\\ProgramData\\Anaconda3\\lib\\site-packages\\ipykernel_launcher.py:8: SettingWithCopyWarning: \n",
      "A value is trying to be set on a copy of a slice from a DataFrame.\n",
      "Try using .loc[row_indexer,col_indexer] = value instead\n",
      "\n",
      "See the caveats in the documentation: http://pandas.pydata.org/pandas-docs/stable/user_guide/indexing.html#returning-a-view-versus-a-copy\n",
      "  \n",
      "C:\\ProgramData\\Anaconda3\\lib\\site-packages\\ipykernel_launcher.py:9: SettingWithCopyWarning: \n",
      "A value is trying to be set on a copy of a slice from a DataFrame.\n",
      "Try using .loc[row_indexer,col_indexer] = value instead\n",
      "\n",
      "See the caveats in the documentation: http://pandas.pydata.org/pandas-docs/stable/user_guide/indexing.html#returning-a-view-versus-a-copy\n",
      "  if __name__ == '__main__':\n",
      "C:\\ProgramData\\Anaconda3\\lib\\site-packages\\ipykernel_launcher.py:11: SettingWithCopyWarning: \n",
      "A value is trying to be set on a copy of a slice from a DataFrame.\n",
      "Try using .loc[row_indexer,col_indexer] = value instead\n",
      "\n",
      "See the caveats in the documentation: http://pandas.pydata.org/pandas-docs/stable/user_guide/indexing.html#returning-a-view-versus-a-copy\n",
      "  # This is added back by InteractiveShellApp.init_path()\n",
      "C:\\ProgramData\\Anaconda3\\lib\\site-packages\\ipykernel_launcher.py:12: SettingWithCopyWarning: \n",
      "A value is trying to be set on a copy of a slice from a DataFrame.\n",
      "Try using .loc[row_indexer,col_indexer] = value instead\n",
      "\n",
      "See the caveats in the documentation: http://pandas.pydata.org/pandas-docs/stable/user_guide/indexing.html#returning-a-view-versus-a-copy\n",
      "  if sys.path[0] == '':\n"
     ]
    },
    {
     "data": {
      "text/html": [
       "<div>\n",
       "<style scoped>\n",
       "    .dataframe tbody tr th:only-of-type {\n",
       "        vertical-align: middle;\n",
       "    }\n",
       "\n",
       "    .dataframe tbody tr th {\n",
       "        vertical-align: top;\n",
       "    }\n",
       "\n",
       "    .dataframe thead th {\n",
       "        text-align: right;\n",
       "    }\n",
       "</style>\n",
       "<table border=\"1\" class=\"dataframe\">\n",
       "  <thead>\n",
       "    <tr style=\"text-align: right;\">\n",
       "      <th></th>\n",
       "      <th>用户地区</th>\n",
       "      <th>性别</th>\n",
       "      <th>使用累计时间</th>\n",
       "      <th>产品服务使用量</th>\n",
       "      <th>是否使用信用卡付月费</th>\n",
       "      <th>是否为活跃用户</th>\n",
       "    </tr>\n",
       "  </thead>\n",
       "  <tbody>\n",
       "    <tr>\n",
       "      <td>0</td>\n",
       "      <td>1</td>\n",
       "      <td>1</td>\n",
       "      <td>4</td>\n",
       "      <td>99</td>\n",
       "      <td>1</td>\n",
       "      <td>0</td>\n",
       "    </tr>\n",
       "    <tr>\n",
       "      <td>1</td>\n",
       "      <td>1</td>\n",
       "      <td>99</td>\n",
       "      <td>9</td>\n",
       "      <td>1</td>\n",
       "      <td>99</td>\n",
       "      <td>1</td>\n",
       "    </tr>\n",
       "    <tr>\n",
       "      <td>2</td>\n",
       "      <td>0</td>\n",
       "      <td>99</td>\n",
       "      <td>1</td>\n",
       "      <td>2</td>\n",
       "      <td>1</td>\n",
       "      <td>1</td>\n",
       "    </tr>\n",
       "    <tr>\n",
       "      <td>3</td>\n",
       "      <td>2</td>\n",
       "      <td>0</td>\n",
       "      <td>99</td>\n",
       "      <td>2</td>\n",
       "      <td>0</td>\n",
       "      <td>0</td>\n",
       "    </tr>\n",
       "    <tr>\n",
       "      <td>4</td>\n",
       "      <td>99</td>\n",
       "      <td>1</td>\n",
       "      <td>10</td>\n",
       "      <td>99</td>\n",
       "      <td>1</td>\n",
       "      <td>99</td>\n",
       "    </tr>\n",
       "  </tbody>\n",
       "</table>\n",
       "</div>"
      ],
      "text/plain": [
       "  用户地区  性别 使用累计时间 产品服务使用量 是否使用信用卡付月费 是否为活跃用户\n",
       "0    1   1      4      99          1       0\n",
       "1    1  99      9       1         99       1\n",
       "2    0  99      1       2          1       1\n",
       "3    2   0     99       2          0       0\n",
       "4   99   1     10      99          1      99"
      ]
     },
     "execution_count": 9,
     "metadata": {},
     "output_type": "execute_result"
    }
   ],
   "source": [
    "#构造算法填充的标签，序列编码\n",
    "\n",
    "\n",
    "cates=['用户地区', '性别', '使用累计时间','产品服务使用量', '是否使用信用卡付月费','是否为活跃用户']\n",
    "\n",
    "y_data=fill_data[cates]\n",
    "y_data['用户地区']=y_data['用户地区'].replace('Taipei',0)\n",
    "y_data['用户地区']=y_data['用户地区'].replace('Taichung',1)\n",
    "y_data['用户地区']=y_data['用户地区'].replace('Tainan',2)\n",
    "\n",
    "y_data['性别']=y_data['性别'].replace('Male',0)\n",
    "y_data['性别']=y_data['性别'].replace('Female',1)\n",
    "\n",
    "y_data.head()"
   ]
  },
  {
   "cell_type": "code",
   "execution_count": 10,
   "metadata": {},
   "outputs": [],
   "source": [
    "# 填充，此处填充，直接用训练集训练的模型\n",
    "\n",
    "model_load_file = open(r'xgb_fill_0.model', 'rb')\n",
    "xgb_fill_0_r = pickle.load(model_load_file)\n",
    "model_load_file.close()\n",
    "\n",
    "model_load_file = open(r'xgb_fill_1.model', 'rb')\n",
    "xgb_fill_1_r = pickle.load(model_load_file)\n",
    "model_load_file.close()\n",
    "\n",
    "model_load_file = open(r'xgb_fill_2.model', 'rb')\n",
    "xgb_fill_2_r = pickle.load(model_load_file)\n",
    "model_load_file.close()\n",
    "\n",
    "model_load_file = open(r'xgb_fill_3.model', 'rb')\n",
    "xgb_fill_3_r = pickle.load(model_load_file)\n",
    "model_load_file.close()\n",
    "\n",
    "model_load_file = open(r'xgb_fill_4.model', 'rb')\n",
    "xgb_fill_4_r = pickle.load(model_load_file)\n",
    "model_load_file.close()\n",
    "\n",
    "model_load_file = open(r'xgb_fill_5.model', 'rb')\n",
    "xgb_fill_5_r = pickle.load(model_load_file)\n",
    "model_load_file.close()\n",
    "\n",
    "model_load_file = open(r'ohe_fill.model', 'rb')\n",
    "ohe_fill_r = pickle.load(model_load_file)\n",
    "model_load_file.close()"
   ]
  },
  {
   "cell_type": "code",
   "execution_count": 11,
   "metadata": {},
   "outputs": [
    {
     "name": "stdout",
     "output_type": "stream",
     "text": [
      "填充有缺失值的特征： 用户地区\n",
      "第一步：构造特征与标签--------------------\n",
      "第二步：预测填充------------------------\n",
      "填充有缺失值的特征： 性别\n",
      "第一步：构造特征与标签--------------------\n",
      "第二步：预测填充------------------------\n",
      "填充有缺失值的特征： 使用累计时间\n",
      "第一步：构造特征与标签--------------------\n",
      "第二步：预测填充------------------------\n",
      "填充有缺失值的特征： 产品服务使用量\n",
      "第一步：构造特征与标签--------------------\n",
      "第二步：预测填充------------------------\n",
      "填充有缺失值的特征： 是否使用信用卡付月费\n",
      "第一步：构造特征与标签--------------------\n",
      "第二步：预测填充------------------------\n",
      "填充有缺失值的特征： 是否为活跃用户\n",
      "第一步：构造特征与标签--------------------\n",
      "第二步：预测填充------------------------\n"
     ]
    },
    {
     "name": "stderr",
     "output_type": "stream",
     "text": [
      "C:\\ProgramData\\Anaconda3\\lib\\site-packages\\pandas\\core\\generic.py:9114: SettingWithCopyWarning: \n",
      "A value is trying to be set on a copy of a slice from a DataFrame\n",
      "\n",
      "See the caveats in the documentation: http://pandas.pydata.org/pandas-docs/stable/user_guide/indexing.html#returning-a-view-versus-a-copy\n",
      "  self._update_inplace(new_data)\n",
      "C:\\ProgramData\\Anaconda3\\lib\\site-packages\\IPython\\core\\interactiveshell.py:3326: SettingWithCopyWarning: \n",
      "A value is trying to be set on a copy of a slice from a DataFrame\n",
      "\n",
      "See the caveats in the documentation: http://pandas.pydata.org/pandas-docs/stable/user_guide/indexing.html#returning-a-view-versus-a-copy\n",
      "  exec(code_obj, self.user_global_ns, self.user_ns)\n"
     ]
    }
   ],
   "source": [
    "cates=['用户地区', '性别', '使用累计时间','产品服务使用量', '是否使用信用卡付月费','是否为活跃用户']\n",
    "\n",
    "x_cates=['产品使用分数', '年龄', '点数余额','估计薪资']\n",
    "\n",
    "dummies_f7=[ region_features,sex_features,usetime_features,service_features,credict_features,active_features,fill_data[x_cates] ]\n",
    "\n",
    "for i in range(6):\n",
    "\n",
    "    print('填充有缺失值的特征：',cates[i])\n",
    "    print('第一步：构造特征与标签--------------------')\n",
    "\n",
    "    Y=y_data[cates[i]]  #Serise\n",
    "    #Y_train=Y[Y!='99'] #没有缺失值\n",
    "    Y_test=Y[Y=='99']  #缺失值，待预测   \n",
    "    \n",
    "    objs=[ region_features,sex_features,usetime_features,service_features,credict_features,active_features,fill_data[x_cates] ]\n",
    "    df=pd.concat(objs,axis=1)    \n",
    "    ob=list(dummies_f7[i].columns)\n",
    "    X=df.drop(labels=ob,axis=1)\n",
    "    #X_train=X[Y!='99']\n",
    "    X_test=X[Y=='99']\n",
    "\n",
    "    print('第二步：预测填充------------------------')\n",
    "    if i==0:\n",
    "        Y_predict=xgb_fill_0_r.predict(X_test)\n",
    "    elif i==1:\n",
    "        Y_predict=xgb_fill_1_r.predict(X_test)\n",
    "    elif i==2:\n",
    "        Y_predict=xgb_fill_2_r.predict(X_test)\n",
    "    elif i==3:\n",
    "        Y_predict=xgb_fill_3_r.predict(X_test)\n",
    "    elif i==4:\n",
    "        Y_predict=xgb_fill_4_r.predict(X_test)\n",
    "    else:\n",
    "        Y_predict=xgb_fill_5_r.predict(X_test)        \n",
    "        \n",
    "    #预测结果赋值到缺失值地方\n",
    "    y_data[ cates[i] ][ y_data[ cates[i] ]=='99' ]=Y_predict"
   ]
  },
  {
   "cell_type": "code",
   "execution_count": 12,
   "metadata": {
    "collapsed": true
   },
   "outputs": [
    {
     "name": "stdout",
     "output_type": "stream",
     "text": [
      "<class 'pandas.core.frame.DataFrame'>\n",
      "RangeIndex: 2000 entries, 0 to 1999\n",
      "Data columns (total 11 columns):\n",
      "产品使用分数        1459 non-null float64\n",
      "用户地区          1413 non-null object\n",
      "性别            1411 non-null object\n",
      "年龄            1436 non-null float64\n",
      "使用累计时间        1431 non-null object\n",
      "点数余额          1409 non-null float64\n",
      "产品服务使用量       1410 non-null object\n",
      "是否使用信用卡付月费    1372 non-null object\n",
      "是否为活跃用户       1416 non-null object\n",
      "估计薪资          1399 non-null float64\n",
      "购买与否          2000 non-null object\n",
      "dtypes: float64(4), object(7)\n",
      "memory usage: 172.0+ KB\n",
      "--------------------\n",
      "<class 'pandas.core.frame.DataFrame'>\n",
      "RangeIndex: 2000 entries, 0 to 1999\n",
      "Data columns (total 11 columns):\n",
      "产品使用分数        1459 non-null float64\n",
      "用户地区          2000 non-null object\n",
      "性别            2000 non-null object\n",
      "年龄            1436 non-null float64\n",
      "使用累计时间        2000 non-null object\n",
      "点数余额          1409 non-null float64\n",
      "产品服务使用量       2000 non-null object\n",
      "是否使用信用卡付月费    2000 non-null object\n",
      "是否为活跃用户       2000 non-null object\n",
      "估计薪资          1399 non-null float64\n",
      "购买与否          2000 non-null object\n",
      "dtypes: float64(4), object(7)\n",
      "memory usage: 172.0+ KB\n"
     ]
    }
   ],
   "source": [
    "data_clean_2=data_clean_1.copy()\n",
    "data_clean_2.info()\n",
    "cates=['用户地区', '性别', '使用累计时间','产品服务使用量', '是否使用信用卡付月费','是否为活跃用户']\n",
    "print('--------------------')\n",
    "data_clean_2[cates]=y_data  #将分类型特征填充结果赋值给data_clean_2\n",
    "data_clean_2.info()"
   ]
  },
  {
   "cell_type": "markdown",
   "metadata": {},
   "source": [
    "(2)数值型特征填充"
   ]
  },
  {
   "cell_type": "code",
   "execution_count": 15,
   "metadata": {},
   "outputs": [],
   "source": [
    "#构造特征空间与标签\n",
    "\n",
    "cates=['产品使用分数', '年龄', '点数余额','估计薪资']\n",
    "y4_data=data_clean_2[cates]\n",
    "\n",
    "cates=['用户地区', '性别', '使用累计时间','产品服务使用量', '是否使用信用卡付月费','是否为活跃用户']\n",
    "result=ohe_fill_r.transform( data_clean_2[cates] )\n",
    "df_catefeature=pd.DataFrame(result.toarray(),columns=ohe_fill_r.get_feature_names())"
   ]
  },
  {
   "cell_type": "code",
   "execution_count": 16,
   "metadata": {},
   "outputs": [
    {
     "data": {
      "text/plain": [
       "(2000, 24)"
      ]
     },
     "execution_count": 16,
     "metadata": {},
     "output_type": "execute_result"
    },
    {
     "data": {
      "text/html": [
       "<div>\n",
       "<style scoped>\n",
       "    .dataframe tbody tr th:only-of-type {\n",
       "        vertical-align: middle;\n",
       "    }\n",
       "\n",
       "    .dataframe tbody tr th {\n",
       "        vertical-align: top;\n",
       "    }\n",
       "\n",
       "    .dataframe thead th {\n",
       "        text-align: right;\n",
       "    }\n",
       "</style>\n",
       "<table border=\"1\" class=\"dataframe\">\n",
       "  <thead>\n",
       "    <tr style=\"text-align: right;\">\n",
       "      <th></th>\n",
       "      <th>x0_0.0</th>\n",
       "      <th>x0_1.0</th>\n",
       "      <th>x0_2.0</th>\n",
       "      <th>x1_0.0</th>\n",
       "      <th>x1_1.0</th>\n",
       "      <th>x2_0.0</th>\n",
       "      <th>x2_1.0</th>\n",
       "      <th>x2_2.0</th>\n",
       "      <th>x2_3.0</th>\n",
       "      <th>x2_4.0</th>\n",
       "      <th>x2_5.0</th>\n",
       "      <th>x2_6.0</th>\n",
       "      <th>x2_7.0</th>\n",
       "      <th>x2_8.0</th>\n",
       "      <th>x2_9.0</th>\n",
       "      <th>x2_10.0</th>\n",
       "      <th>x3_1.0</th>\n",
       "      <th>x3_2.0</th>\n",
       "      <th>x3_3.0</th>\n",
       "      <th>x3_4.0</th>\n",
       "      <th>x4_0.0</th>\n",
       "      <th>x4_1.0</th>\n",
       "      <th>x5_0.0</th>\n",
       "      <th>x5_1.0</th>\n",
       "    </tr>\n",
       "  </thead>\n",
       "  <tbody>\n",
       "    <tr>\n",
       "      <td>0</td>\n",
       "      <td>0.0000</td>\n",
       "      <td>1.0000</td>\n",
       "      <td>0.0000</td>\n",
       "      <td>0.0000</td>\n",
       "      <td>1.0000</td>\n",
       "      <td>0.0000</td>\n",
       "      <td>0.0000</td>\n",
       "      <td>0.0000</td>\n",
       "      <td>0.0000</td>\n",
       "      <td>1.0000</td>\n",
       "      <td>0.0000</td>\n",
       "      <td>0.0000</td>\n",
       "      <td>0.0000</td>\n",
       "      <td>0.0000</td>\n",
       "      <td>0.0000</td>\n",
       "      <td>0.0000</td>\n",
       "      <td>1.0000</td>\n",
       "      <td>0.0000</td>\n",
       "      <td>0.0000</td>\n",
       "      <td>0.0000</td>\n",
       "      <td>0.0000</td>\n",
       "      <td>1.0000</td>\n",
       "      <td>1.0000</td>\n",
       "      <td>0.0000</td>\n",
       "    </tr>\n",
       "    <tr>\n",
       "      <td>1</td>\n",
       "      <td>0.0000</td>\n",
       "      <td>1.0000</td>\n",
       "      <td>0.0000</td>\n",
       "      <td>1.0000</td>\n",
       "      <td>0.0000</td>\n",
       "      <td>0.0000</td>\n",
       "      <td>0.0000</td>\n",
       "      <td>0.0000</td>\n",
       "      <td>0.0000</td>\n",
       "      <td>0.0000</td>\n",
       "      <td>0.0000</td>\n",
       "      <td>0.0000</td>\n",
       "      <td>0.0000</td>\n",
       "      <td>0.0000</td>\n",
       "      <td>1.0000</td>\n",
       "      <td>0.0000</td>\n",
       "      <td>1.0000</td>\n",
       "      <td>0.0000</td>\n",
       "      <td>0.0000</td>\n",
       "      <td>0.0000</td>\n",
       "      <td>0.0000</td>\n",
       "      <td>1.0000</td>\n",
       "      <td>0.0000</td>\n",
       "      <td>1.0000</td>\n",
       "    </tr>\n",
       "    <tr>\n",
       "      <td>2</td>\n",
       "      <td>1.0000</td>\n",
       "      <td>0.0000</td>\n",
       "      <td>0.0000</td>\n",
       "      <td>1.0000</td>\n",
       "      <td>0.0000</td>\n",
       "      <td>0.0000</td>\n",
       "      <td>1.0000</td>\n",
       "      <td>0.0000</td>\n",
       "      <td>0.0000</td>\n",
       "      <td>0.0000</td>\n",
       "      <td>0.0000</td>\n",
       "      <td>0.0000</td>\n",
       "      <td>0.0000</td>\n",
       "      <td>0.0000</td>\n",
       "      <td>0.0000</td>\n",
       "      <td>0.0000</td>\n",
       "      <td>0.0000</td>\n",
       "      <td>1.0000</td>\n",
       "      <td>0.0000</td>\n",
       "      <td>0.0000</td>\n",
       "      <td>0.0000</td>\n",
       "      <td>1.0000</td>\n",
       "      <td>0.0000</td>\n",
       "      <td>1.0000</td>\n",
       "    </tr>\n",
       "    <tr>\n",
       "      <td>3</td>\n",
       "      <td>0.0000</td>\n",
       "      <td>0.0000</td>\n",
       "      <td>1.0000</td>\n",
       "      <td>1.0000</td>\n",
       "      <td>0.0000</td>\n",
       "      <td>0.0000</td>\n",
       "      <td>0.0000</td>\n",
       "      <td>0.0000</td>\n",
       "      <td>0.0000</td>\n",
       "      <td>0.0000</td>\n",
       "      <td>0.0000</td>\n",
       "      <td>0.0000</td>\n",
       "      <td>0.0000</td>\n",
       "      <td>1.0000</td>\n",
       "      <td>0.0000</td>\n",
       "      <td>0.0000</td>\n",
       "      <td>0.0000</td>\n",
       "      <td>1.0000</td>\n",
       "      <td>0.0000</td>\n",
       "      <td>0.0000</td>\n",
       "      <td>1.0000</td>\n",
       "      <td>0.0000</td>\n",
       "      <td>1.0000</td>\n",
       "      <td>0.0000</td>\n",
       "    </tr>\n",
       "    <tr>\n",
       "      <td>4</td>\n",
       "      <td>0.0000</td>\n",
       "      <td>1.0000</td>\n",
       "      <td>0.0000</td>\n",
       "      <td>0.0000</td>\n",
       "      <td>1.0000</td>\n",
       "      <td>0.0000</td>\n",
       "      <td>0.0000</td>\n",
       "      <td>0.0000</td>\n",
       "      <td>0.0000</td>\n",
       "      <td>0.0000</td>\n",
       "      <td>0.0000</td>\n",
       "      <td>0.0000</td>\n",
       "      <td>0.0000</td>\n",
       "      <td>0.0000</td>\n",
       "      <td>0.0000</td>\n",
       "      <td>1.0000</td>\n",
       "      <td>1.0000</td>\n",
       "      <td>0.0000</td>\n",
       "      <td>0.0000</td>\n",
       "      <td>0.0000</td>\n",
       "      <td>0.0000</td>\n",
       "      <td>1.0000</td>\n",
       "      <td>1.0000</td>\n",
       "      <td>0.0000</td>\n",
       "    </tr>\n",
       "  </tbody>\n",
       "</table>\n",
       "</div>"
      ],
      "text/plain": [
       "   x0_0.0  x0_1.0  x0_2.0  x1_0.0  x1_1.0  x2_0.0  x2_1.0  x2_2.0  x2_3.0  \\\n",
       "0  0.0000  1.0000  0.0000  0.0000  1.0000  0.0000  0.0000  0.0000  0.0000   \n",
       "1  0.0000  1.0000  0.0000  1.0000  0.0000  0.0000  0.0000  0.0000  0.0000   \n",
       "2  1.0000  0.0000  0.0000  1.0000  0.0000  0.0000  1.0000  0.0000  0.0000   \n",
       "3  0.0000  0.0000  1.0000  1.0000  0.0000  0.0000  0.0000  0.0000  0.0000   \n",
       "4  0.0000  1.0000  0.0000  0.0000  1.0000  0.0000  0.0000  0.0000  0.0000   \n",
       "\n",
       "   x2_4.0  x2_5.0  x2_6.0  x2_7.0  x2_8.0  x2_9.0  x2_10.0  x3_1.0  x3_2.0  \\\n",
       "0  1.0000  0.0000  0.0000  0.0000  0.0000  0.0000   0.0000  1.0000  0.0000   \n",
       "1  0.0000  0.0000  0.0000  0.0000  0.0000  1.0000   0.0000  1.0000  0.0000   \n",
       "2  0.0000  0.0000  0.0000  0.0000  0.0000  0.0000   0.0000  0.0000  1.0000   \n",
       "3  0.0000  0.0000  0.0000  0.0000  1.0000  0.0000   0.0000  0.0000  1.0000   \n",
       "4  0.0000  0.0000  0.0000  0.0000  0.0000  0.0000   1.0000  1.0000  0.0000   \n",
       "\n",
       "   x3_3.0  x3_4.0  x4_0.0  x4_1.0  x5_0.0  x5_1.0  \n",
       "0  0.0000  0.0000  0.0000  1.0000  1.0000  0.0000  \n",
       "1  0.0000  0.0000  0.0000  1.0000  0.0000  1.0000  \n",
       "2  0.0000  0.0000  0.0000  1.0000  0.0000  1.0000  \n",
       "3  0.0000  0.0000  1.0000  0.0000  1.0000  0.0000  \n",
       "4  0.0000  0.0000  0.0000  1.0000  1.0000  0.0000  "
      ]
     },
     "execution_count": 16,
     "metadata": {},
     "output_type": "execute_result"
    }
   ],
   "source": [
    "df_catefeature.shape\n",
    "df_catefeature.head()"
   ]
  },
  {
   "cell_type": "code",
   "execution_count": 17,
   "metadata": {},
   "outputs": [],
   "source": [
    "# 填充，此处填充，直接用训练集训练的模型\n",
    "\n",
    "model_load_file = open(r'xgbr_fill_0.model', 'rb')\n",
    "xgbr_fill_0_r = pickle.load(model_load_file)\n",
    "model_load_file.close()\n",
    "\n",
    "model_load_file = open(r'xgbr_fill_1.model', 'rb')\n",
    "xgbr_fill_1_r = pickle.load(model_load_file)\n",
    "model_load_file.close()\n",
    "\n",
    "model_load_file = open(r'xgbr_fill_2.model', 'rb')\n",
    "xgbr_fill_2_r = pickle.load(model_load_file)\n",
    "model_load_file.close()\n",
    "\n",
    "model_load_file = open(r'xgbr_fill_3.model', 'rb')\n",
    "xgbr_fill_3_r = pickle.load(model_load_file)\n",
    "model_load_file.close()"
   ]
  },
  {
   "cell_type": "code",
   "execution_count": 18,
   "metadata": {},
   "outputs": [
    {
     "name": "stdout",
     "output_type": "stream",
     "text": [
      "填充有缺失值的特征： 产品使用分数\n",
      "第一步：构造特征与标签--------------------\n",
      "第二步：预测填充------------------------\n",
      "填充有缺失值的特征： 年龄\n",
      "第一步：构造特征与标签--------------------\n",
      "第二步：预测填充------------------------\n",
      "填充有缺失值的特征： 点数余额\n",
      "第一步：构造特征与标签--------------------\n",
      "第二步：预测填充------------------------\n",
      "填充有缺失值的特征： 估计薪资\n",
      "第一步：构造特征与标签--------------------\n",
      "第二步：预测填充------------------------\n"
     ]
    },
    {
     "name": "stderr",
     "output_type": "stream",
     "text": [
      "C:\\ProgramData\\Anaconda3\\lib\\site-packages\\pandas\\core\\generic.py:9114: SettingWithCopyWarning: \n",
      "A value is trying to be set on a copy of a slice from a DataFrame\n",
      "\n",
      "See the caveats in the documentation: http://pandas.pydata.org/pandas-docs/stable/user_guide/indexing.html#returning-a-view-versus-a-copy\n",
      "  self._update_inplace(new_data)\n",
      "C:\\ProgramData\\Anaconda3\\lib\\site-packages\\IPython\\core\\interactiveshell.py:3326: SettingWithCopyWarning: \n",
      "A value is trying to be set on a copy of a slice from a DataFrame\n",
      "\n",
      "See the caveats in the documentation: http://pandas.pydata.org/pandas-docs/stable/user_guide/indexing.html#returning-a-view-versus-a-copy\n",
      "  exec(code_obj, self.user_global_ns, self.user_ns)\n"
     ]
    }
   ],
   "source": [
    "# 填充\n",
    "\n",
    "cates=['产品使用分数', '年龄', '点数余额','估计薪资']\n",
    "dummies_f7=[ data_clean_2[cates] ,df_catefeature ]\n",
    "\n",
    "for i in range(4):\n",
    "    \n",
    "    print('填充有缺失值的特征：',cates[i])\n",
    "    print('第一步：构造特征与标签--------------------')\n",
    "\n",
    "    Y=y4_data[cates[i]]  #Serise\n",
    "    Y_train=Y[Y.notnull()] #没有缺失值，用于建模\n",
    "    Y_test=Y[Y.isnull()]  #缺失值，待预测\n",
    "    \n",
    "    \n",
    "    objs=[ data_clean_2[cates] ,df_catefeature ]\n",
    "    df=pd.concat(objs,axis=1)    \n",
    "    ob=cates[i]\n",
    "    X=df.drop(labels=ob,axis=1)\n",
    "    X_train=X[Y.notnull()]\n",
    "    X_test=X[Y.isnull()]\n",
    "\n",
    "    print('第二步：预测填充------------------------')\n",
    "    if i==0:\n",
    "        Y_predict=xgbr_fill_0_r.predict(X_test)\n",
    "    elif i==1:\n",
    "        Y_predict=xgbr_fill_1_r.predict(X_test)\n",
    "    elif i==2:\n",
    "        Y_predict=xgbr_fill_2_r.predict(X_test)\n",
    "    else:\n",
    "        Y_predict=xgbr_fill_3_r.predict(X_test)\n",
    "        \n",
    "    #预测结果赋值到缺失值地方\n",
    "    y4_data[ cates[i] ][ y4_data[ cates[i] ].isnull() ]=Y_predict"
   ]
  },
  {
   "cell_type": "code",
   "execution_count": 19,
   "metadata": {
    "collapsed": true
   },
   "outputs": [
    {
     "name": "stdout",
     "output_type": "stream",
     "text": [
      "<class 'pandas.core.frame.DataFrame'>\n",
      "RangeIndex: 2000 entries, 0 to 1999\n",
      "Data columns (total 11 columns):\n",
      "产品使用分数        1459 non-null float64\n",
      "用户地区          2000 non-null object\n",
      "性别            2000 non-null object\n",
      "年龄            1436 non-null float64\n",
      "使用累计时间        2000 non-null object\n",
      "点数余额          1409 non-null float64\n",
      "产品服务使用量       2000 non-null object\n",
      "是否使用信用卡付月费    2000 non-null object\n",
      "是否为活跃用户       2000 non-null object\n",
      "估计薪资          1399 non-null float64\n",
      "购买与否          2000 non-null object\n",
      "dtypes: float64(4), object(7)\n",
      "memory usage: 172.0+ KB\n",
      "--------------------\n",
      "<class 'pandas.core.frame.DataFrame'>\n",
      "RangeIndex: 2000 entries, 0 to 1999\n",
      "Data columns (total 11 columns):\n",
      "产品使用分数        2000 non-null float64\n",
      "用户地区          2000 non-null object\n",
      "性别            2000 non-null object\n",
      "年龄            2000 non-null float64\n",
      "使用累计时间        2000 non-null object\n",
      "点数余额          2000 non-null float64\n",
      "产品服务使用量       2000 non-null object\n",
      "是否使用信用卡付月费    2000 non-null object\n",
      "是否为活跃用户       2000 non-null object\n",
      "估计薪资          2000 non-null float64\n",
      "购买与否          2000 non-null object\n",
      "dtypes: float64(4), object(7)\n",
      "memory usage: 172.0+ KB\n"
     ]
    }
   ],
   "source": [
    "data_clean_3=data_clean_2.copy()\n",
    "data_clean_3.info()\n",
    "cates=['产品使用分数', '年龄', '点数余额','估计薪资']\n",
    "print('--------------------')\n",
    "data_clean_3[cates]=y4_data  #将数值型特征填充结果赋值给data_clean_3\n",
    "data_clean_3.info()\n",
    "\n",
    "data_clean_4=data_clean_3.copy()\n",
    "data_clean_4['客户ID']=test_data['客户ID']\n",
    "data_clean_4.to_csv('./clean_df_test.csv')"
   ]
  },
  {
   "cell_type": "markdown",
   "metadata": {},
   "source": [
    "### （二）预测"
   ]
  },
  {
   "cell_type": "markdown",
   "metadata": {},
   "source": [
    "#### （1）关键特征,XGBoost"
   ]
  },
  {
   "cell_type": "code",
   "execution_count": 2,
   "metadata": {},
   "outputs": [
    {
     "data": {
      "text/plain": [
       "0    1810\n",
       "1     190\n",
       "Name: Predicted_Results, dtype: int64"
      ]
     },
     "execution_count": 2,
     "metadata": {},
     "output_type": "execute_result"
    }
   ],
   "source": [
    "#构造特征空间\n",
    "\n",
    "data=pd.read_csv('./clean_df_test.csv',index_col='Unnamed: 0')\n",
    "\n",
    "model_load_file = open(r'ohe_keyf.model', 'rb')\n",
    "ohe_keyf_r = pickle.load(model_load_file)\n",
    "model_load_file.close()\n",
    "\n",
    "cates=['用户地区', '性别','产品服务使用量', '是否为活跃用户']\n",
    "result=ohe_keyf_r.transform( data[cates] )\n",
    "df_catefeature=pd.DataFrame(result.toarray(),columns=ohe_keyf_r.get_feature_names())\n",
    "\n",
    "cates=['产品使用分数', '年龄', '点数余额']\n",
    "objs=[df_catefeature,data[cates]]\n",
    "X=pd.concat(objs,axis=1)\n",
    "\n",
    "#导入预测模型\n",
    "model_load_file = open(r'best_2_XGBClassifier.model', 'rb')\n",
    "xgb_2_r = pickle.load(model_load_file)\n",
    "model_load_file.close()\n",
    "\n",
    "#预测并保存\n",
    "\n",
    "Y_pre=xgb_2_r.predict(X)\n",
    "\n",
    "data['Predicted_Results']=Y_pre\n",
    "results=data[['客户ID','Predicted_Results']]\n",
    "results.to_csv('./results_xgb_2.csv',index=False)\n",
    "\n",
    "results.Predicted_Results.value_counts()"
   ]
  },
  {
   "cell_type": "markdown",
   "metadata": {},
   "source": [
    "#### （2）关键特征,MLP神经网络"
   ]
  },
  {
   "cell_type": "code",
   "execution_count": 3,
   "metadata": {},
   "outputs": [
    {
     "data": {
      "text/plain": [
       "0    1778\n",
       "1     222\n",
       "Name: Predicted_Results, dtype: int64"
      ]
     },
     "execution_count": 3,
     "metadata": {},
     "output_type": "execute_result"
    }
   ],
   "source": [
    "#构造特征空间\n",
    "\n",
    "data=pd.read_csv('./clean_df_test.csv',index_col='Unnamed: 0')\n",
    "\n",
    "model_load_file = open(r'ohe_keyf.model', 'rb')\n",
    "ohe_keyf_r = pickle.load(model_load_file)\n",
    "model_load_file.close()\n",
    "\n",
    "cates=['用户地区', '性别','产品服务使用量', '是否为活跃用户']\n",
    "result=ohe_keyf_r.transform( data[cates] )\n",
    "df_catefeature=pd.DataFrame(result.toarray(),columns=ohe_keyf_r.get_feature_names())\n",
    "\n",
    "cates=['产品使用分数', '年龄', '点数余额']\n",
    "objs=[df_catefeature,data[cates]]\n",
    "X=pd.concat(objs,axis=1)\n",
    "\n",
    "model_load_file = open(r'ss.model', 'rb')\n",
    "ss_r = pickle.load(model_load_file)\n",
    "model_load_file.close()\n",
    "\n",
    "X_mm=ss_r.transform(X)\n",
    "\n",
    "#导入预测模型\n",
    "model_load_file = open(r'best_1_MLPClassifier.model', 'rb')\n",
    "mlpc_1_r = pickle.load(model_load_file)\n",
    "model_load_file.close()\n",
    "\n",
    "#预测并保存\n",
    "\n",
    "Y_pre=mlpc_1_r.predict(X_mm)\n",
    "\n",
    "data['Predicted_Results']=Y_pre\n",
    "results=data[['客户ID','Predicted_Results']]\n",
    "results.to_csv('./results_mlpc.csv',index=False)\n",
    "\n",
    "results.Predicted_Results.value_counts()"
   ]
  },
  {
   "cell_type": "markdown",
   "metadata": {},
   "source": [
    "#### （3）关键特征,随机森林"
   ]
  },
  {
   "cell_type": "code",
   "execution_count": 4,
   "metadata": {},
   "outputs": [
    {
     "data": {
      "text/plain": [
       "0    1845\n",
       "1     155\n",
       "Name: Predicted_Results, dtype: int64"
      ]
     },
     "execution_count": 4,
     "metadata": {},
     "output_type": "execute_result"
    }
   ],
   "source": [
    "#构造特征空间\n",
    "\n",
    "data=pd.read_csv('./clean_df_test.csv',index_col='Unnamed: 0')\n",
    "\n",
    "model_load_file = open(r'ohe_keyf.model', 'rb')\n",
    "ohe_keyf_r = pickle.load(model_load_file)\n",
    "model_load_file.close()\n",
    "\n",
    "cates=['用户地区', '性别','产品服务使用量', '是否为活跃用户']\n",
    "result=ohe_keyf_r.transform( data[cates] )\n",
    "df_catefeature=pd.DataFrame(result.toarray(),columns=ohe_keyf_r.get_feature_names())\n",
    "\n",
    "cates=['产品使用分数', '年龄', '点数余额']\n",
    "objs=[df_catefeature,data[cates]]\n",
    "X=pd.concat(objs,axis=1)\n",
    "\n",
    "#导入预测模型\n",
    "model_load_file = open(r'best_1_RandomForestClassifier.model', 'rb')\n",
    "rfc_1_r = pickle.load(model_load_file)\n",
    "model_load_file.close()\n",
    "\n",
    "#预测并保存\n",
    "\n",
    "Y_pre=rfc_1_r.predict(X)\n",
    "\n",
    "data['Predicted_Results']=Y_pre\n",
    "results=data[['客户ID','Predicted_Results']]\n",
    "results.to_csv('./results_rfc.csv',index=False)\n",
    "\n",
    "results.Predicted_Results.value_counts()"
   ]
  },
  {
   "cell_type": "markdown",
   "metadata": {},
   "source": [
    "### （三）比较不同模型的预测结果"
   ]
  },
  {
   "cell_type": "code",
   "execution_count": 5,
   "metadata": {
    "scrolled": true
   },
   "outputs": [
    {
     "data": {
      "text/html": [
       "<div>\n",
       "<style scoped>\n",
       "    .dataframe tbody tr th:only-of-type {\n",
       "        vertical-align: middle;\n",
       "    }\n",
       "\n",
       "    .dataframe tbody tr th {\n",
       "        vertical-align: top;\n",
       "    }\n",
       "\n",
       "    .dataframe thead th {\n",
       "        text-align: right;\n",
       "    }\n",
       "</style>\n",
       "<table border=\"1\" class=\"dataframe\">\n",
       "  <thead>\n",
       "    <tr style=\"text-align: right;\">\n",
       "      <th></th>\n",
       "      <th>xgb_2_pre</th>\n",
       "      <th>mlpc_pre</th>\n",
       "      <th>rfc_pre</th>\n",
       "    </tr>\n",
       "    <tr>\n",
       "      <th>客户ID</th>\n",
       "      <th></th>\n",
       "      <th></th>\n",
       "      <th></th>\n",
       "    </tr>\n",
       "  </thead>\n",
       "  <tbody>\n",
       "    <tr>\n",
       "      <td>9222</td>\n",
       "      <td>0</td>\n",
       "      <td>0</td>\n",
       "      <td>0</td>\n",
       "    </tr>\n",
       "    <tr>\n",
       "      <td>3931</td>\n",
       "      <td>1</td>\n",
       "      <td>1</td>\n",
       "      <td>0</td>\n",
       "    </tr>\n",
       "    <tr>\n",
       "      <td>1242</td>\n",
       "      <td>0</td>\n",
       "      <td>0</td>\n",
       "      <td>0</td>\n",
       "    </tr>\n",
       "    <tr>\n",
       "      <td>3639</td>\n",
       "      <td>0</td>\n",
       "      <td>0</td>\n",
       "      <td>0</td>\n",
       "    </tr>\n",
       "    <tr>\n",
       "      <td>7951</td>\n",
       "      <td>0</td>\n",
       "      <td>0</td>\n",
       "      <td>0</td>\n",
       "    </tr>\n",
       "    <tr>\n",
       "      <td>1803</td>\n",
       "      <td>0</td>\n",
       "      <td>0</td>\n",
       "      <td>0</td>\n",
       "    </tr>\n",
       "    <tr>\n",
       "      <td>1459</td>\n",
       "      <td>0</td>\n",
       "      <td>0</td>\n",
       "      <td>0</td>\n",
       "    </tr>\n",
       "    <tr>\n",
       "      <td>3538</td>\n",
       "      <td>0</td>\n",
       "      <td>0</td>\n",
       "      <td>0</td>\n",
       "    </tr>\n",
       "    <tr>\n",
       "      <td>8924</td>\n",
       "      <td>1</td>\n",
       "      <td>1</td>\n",
       "      <td>1</td>\n",
       "    </tr>\n",
       "    <tr>\n",
       "      <td>9294</td>\n",
       "      <td>0</td>\n",
       "      <td>0</td>\n",
       "      <td>0</td>\n",
       "    </tr>\n",
       "    <tr>\n",
       "      <td>7023</td>\n",
       "      <td>1</td>\n",
       "      <td>0</td>\n",
       "      <td>0</td>\n",
       "    </tr>\n",
       "    <tr>\n",
       "      <td>3190</td>\n",
       "      <td>0</td>\n",
       "      <td>0</td>\n",
       "      <td>0</td>\n",
       "    </tr>\n",
       "    <tr>\n",
       "      <td>8145</td>\n",
       "      <td>0</td>\n",
       "      <td>0</td>\n",
       "      <td>0</td>\n",
       "    </tr>\n",
       "    <tr>\n",
       "      <td>2313</td>\n",
       "      <td>1</td>\n",
       "      <td>1</td>\n",
       "      <td>1</td>\n",
       "    </tr>\n",
       "    <tr>\n",
       "      <td>4265</td>\n",
       "      <td>1</td>\n",
       "      <td>1</td>\n",
       "      <td>1</td>\n",
       "    </tr>\n",
       "    <tr>\n",
       "      <td>6517</td>\n",
       "      <td>1</td>\n",
       "      <td>1</td>\n",
       "      <td>1</td>\n",
       "    </tr>\n",
       "    <tr>\n",
       "      <td>6136</td>\n",
       "      <td>0</td>\n",
       "      <td>0</td>\n",
       "      <td>0</td>\n",
       "    </tr>\n",
       "    <tr>\n",
       "      <td>9413</td>\n",
       "      <td>0</td>\n",
       "      <td>1</td>\n",
       "      <td>0</td>\n",
       "    </tr>\n",
       "    <tr>\n",
       "      <td>5070</td>\n",
       "      <td>0</td>\n",
       "      <td>0</td>\n",
       "      <td>0</td>\n",
       "    </tr>\n",
       "    <tr>\n",
       "      <td>5141</td>\n",
       "      <td>0</td>\n",
       "      <td>0</td>\n",
       "      <td>0</td>\n",
       "    </tr>\n",
       "  </tbody>\n",
       "</table>\n",
       "</div>"
      ],
      "text/plain": [
       "      xgb_2_pre  mlpc_pre  rfc_pre\n",
       "客户ID                              \n",
       "9222          0         0        0\n",
       "3931          1         1        0\n",
       "1242          0         0        0\n",
       "3639          0         0        0\n",
       "7951          0         0        0\n",
       "1803          0         0        0\n",
       "1459          0         0        0\n",
       "3538          0         0        0\n",
       "8924          1         1        1\n",
       "9294          0         0        0\n",
       "7023          1         0        0\n",
       "3190          0         0        0\n",
       "8145          0         0        0\n",
       "2313          1         1        1\n",
       "4265          1         1        1\n",
       "6517          1         1        1\n",
       "6136          0         0        0\n",
       "9413          0         1        0\n",
       "5070          0         0        0\n",
       "5141          0         0        0"
      ]
     },
     "execution_count": 5,
     "metadata": {},
     "output_type": "execute_result"
    }
   ],
   "source": [
    "results_xgb_2=pd.read_csv('./results_xgb_2.csv',index_col='客户ID')\n",
    "results_xgb_2.columns=['xgb_2_pre']\n",
    "\n",
    "results_mlpc=pd.read_csv('./results_mlpc.csv',index_col='客户ID')\n",
    "results_mlpc.columns=['mlpc_pre']\n",
    "\n",
    "results_rfc=pd.read_csv('./results_rfc.csv',index_col='客户ID')\n",
    "results_rfc.columns=['rfc_pre']\n",
    "\n",
    "pre_all=pd.concat([results_xgb_2,results_mlpc,results_rfc],axis=1)\n",
    "pre_all.head(20)"
   ]
  },
  {
   "cell_type": "code",
   "execution_count": 6,
   "metadata": {
    "scrolled": true
   },
   "outputs": [
    {
     "data": {
      "text/html": [
       "<div>\n",
       "<style scoped>\n",
       "    .dataframe tbody tr th:only-of-type {\n",
       "        vertical-align: middle;\n",
       "    }\n",
       "\n",
       "    .dataframe tbody tr th {\n",
       "        vertical-align: top;\n",
       "    }\n",
       "\n",
       "    .dataframe thead th {\n",
       "        text-align: right;\n",
       "    }\n",
       "</style>\n",
       "<table border=\"1\" class=\"dataframe\">\n",
       "  <thead>\n",
       "    <tr style=\"text-align: right;\">\n",
       "      <th>mlpc_pre</th>\n",
       "      <th>0</th>\n",
       "      <th>1</th>\n",
       "    </tr>\n",
       "    <tr>\n",
       "      <th>xgb_2_pre</th>\n",
       "      <th></th>\n",
       "      <th></th>\n",
       "    </tr>\n",
       "  </thead>\n",
       "  <tbody>\n",
       "    <tr>\n",
       "      <td>0</td>\n",
       "      <td>1753</td>\n",
       "      <td>57</td>\n",
       "    </tr>\n",
       "    <tr>\n",
       "      <td>1</td>\n",
       "      <td>25</td>\n",
       "      <td>165</td>\n",
       "    </tr>\n",
       "  </tbody>\n",
       "</table>\n",
       "</div>"
      ],
      "text/plain": [
       "mlpc_pre      0    1\n",
       "xgb_2_pre           \n",
       "0          1753   57\n",
       "1            25  165"
      ]
     },
     "execution_count": 6,
     "metadata": {},
     "output_type": "execute_result"
    },
    {
     "data": {
      "text/html": [
       "<div>\n",
       "<style scoped>\n",
       "    .dataframe tbody tr th:only-of-type {\n",
       "        vertical-align: middle;\n",
       "    }\n",
       "\n",
       "    .dataframe tbody tr th {\n",
       "        vertical-align: top;\n",
       "    }\n",
       "\n",
       "    .dataframe thead th {\n",
       "        text-align: right;\n",
       "    }\n",
       "</style>\n",
       "<table border=\"1\" class=\"dataframe\">\n",
       "  <thead>\n",
       "    <tr style=\"text-align: right;\">\n",
       "      <th>rfc_pre</th>\n",
       "      <th>0</th>\n",
       "      <th>1</th>\n",
       "    </tr>\n",
       "    <tr>\n",
       "      <th>xgb_2_pre</th>\n",
       "      <th></th>\n",
       "      <th></th>\n",
       "    </tr>\n",
       "  </thead>\n",
       "  <tbody>\n",
       "    <tr>\n",
       "      <td>0</td>\n",
       "      <td>1807</td>\n",
       "      <td>3</td>\n",
       "    </tr>\n",
       "    <tr>\n",
       "      <td>1</td>\n",
       "      <td>38</td>\n",
       "      <td>152</td>\n",
       "    </tr>\n",
       "  </tbody>\n",
       "</table>\n",
       "</div>"
      ],
      "text/plain": [
       "rfc_pre       0    1\n",
       "xgb_2_pre           \n",
       "0          1807    3\n",
       "1            38  152"
      ]
     },
     "execution_count": 6,
     "metadata": {},
     "output_type": "execute_result"
    },
    {
     "data": {
      "text/html": [
       "<div>\n",
       "<style scoped>\n",
       "    .dataframe tbody tr th:only-of-type {\n",
       "        vertical-align: middle;\n",
       "    }\n",
       "\n",
       "    .dataframe tbody tr th {\n",
       "        vertical-align: top;\n",
       "    }\n",
       "\n",
       "    .dataframe thead th {\n",
       "        text-align: right;\n",
       "    }\n",
       "</style>\n",
       "<table border=\"1\" class=\"dataframe\">\n",
       "  <thead>\n",
       "    <tr style=\"text-align: right;\">\n",
       "      <th>rfc_pre</th>\n",
       "      <th>0</th>\n",
       "      <th>1</th>\n",
       "    </tr>\n",
       "    <tr>\n",
       "      <th>mlpc_pre</th>\n",
       "      <th></th>\n",
       "      <th></th>\n",
       "    </tr>\n",
       "  </thead>\n",
       "  <tbody>\n",
       "    <tr>\n",
       "      <td>0</td>\n",
       "      <td>1763</td>\n",
       "      <td>15</td>\n",
       "    </tr>\n",
       "    <tr>\n",
       "      <td>1</td>\n",
       "      <td>82</td>\n",
       "      <td>140</td>\n",
       "    </tr>\n",
       "  </tbody>\n",
       "</table>\n",
       "</div>"
      ],
      "text/plain": [
       "rfc_pre      0    1\n",
       "mlpc_pre           \n",
       "0         1763   15\n",
       "1           82  140"
      ]
     },
     "execution_count": 6,
     "metadata": {},
     "output_type": "execute_result"
    }
   ],
   "source": [
    "df=['xgb_2_pre','mlpc_pre','rfc_pre']\n",
    "for x in range(3):\n",
    "    for y in range(x+1,3):\n",
    "        pd.crosstab(index=pre_all[df[x]],columns=pre_all[df[y]])"
   ]
  },
  {
   "cell_type": "markdown",
   "metadata": {},
   "source": [
    "### （四）模型融合"
   ]
  },
  {
   "cell_type": "code",
   "execution_count": 8,
   "metadata": {},
   "outputs": [
    {
     "name": "stderr",
     "output_type": "stream",
     "text": [
      "C:\\ProgramData\\Anaconda3\\lib\\site-packages\\ipykernel_launcher.py:9: FutureWarning: The signature of `Series.to_csv` was aligned to that of `DataFrame.to_csv`, and argument 'header' will change its default value from False to True: please pass an explicit value to suppress this warning.\n",
      "  if __name__ == '__main__':\n"
     ]
    }
   ],
   "source": [
    "def voting3(x):\n",
    "    if x>1:\n",
    "        return 1\n",
    "    else:\n",
    "        return 0\n",
    "\n",
    "pre_all['voting3_pre']=pre_all['xgb_2_pre']+pre_all['mlpc_pre']+pre_all['rfc_pre']\n",
    "pre_all['voting3_pre']=pre_all['voting3_pre'].map(voting3)\n",
    "pre_all['voting3_pre'].to_csv('./voting3_pre.csv')"
   ]
  },
  {
   "cell_type": "code",
   "execution_count": 9,
   "metadata": {},
   "outputs": [
    {
     "name": "stderr",
     "output_type": "stream",
     "text": [
      "C:\\ProgramData\\Anaconda3\\lib\\site-packages\\ipykernel_launcher.py:9: FutureWarning: The signature of `Series.to_csv` was aligned to that of `DataFrame.to_csv`, and argument 'header' will change its default value from False to True: please pass an explicit value to suppress this warning.\n",
      "  if __name__ == '__main__':\n"
     ]
    }
   ],
   "source": [
    "def voting2(x):\n",
    "    if x>0:\n",
    "        return 1\n",
    "    else:\n",
    "        return 0\n",
    "\n",
    "pre_all['voting2_pre']=pre_all['mlpc_pre']+pre_all['rfc_pre']\n",
    "pre_all['voting2_pre']=pre_all['voting2_pre'].map(voting3)\n",
    "pre_all['voting2_pre'].to_csv('./voting2_pre.csv')"
   ]
  },
  {
   "cell_type": "code",
   "execution_count": 10,
   "metadata": {},
   "outputs": [
    {
     "name": "stderr",
     "output_type": "stream",
     "text": [
      "C:\\ProgramData\\Anaconda3\\lib\\site-packages\\ipykernel_launcher.py:9: FutureWarning: The signature of `Series.to_csv` was aligned to that of `DataFrame.to_csv`, and argument 'header' will change its default value from False to True: please pass an explicit value to suppress this warning.\n",
      "  if __name__ == '__main__':\n"
     ]
    }
   ],
   "source": [
    "def voting22(x):\n",
    "    if x>0:\n",
    "        return 1\n",
    "    else:\n",
    "        return 0\n",
    "\n",
    "pre_all['voting22_pre']=pre_all['mlpc_pre']+pre_all['xgb_2_pre']\n",
    "pre_all['voting22_pre']=pre_all['voting22_pre'].map(voting3)\n",
    "pre_all['voting22_pre'].to_csv('./voting22_pre.csv')"
   ]
  },
  {
   "cell_type": "markdown",
   "metadata": {},
   "source": [
    "## 附探索"
   ]
  },
  {
   "cell_type": "code",
   "execution_count": 24,
   "metadata": {},
   "outputs": [
    {
     "data": {
      "text/plain": [
       "0    1560\n",
       "1     440\n",
       "Name: Predicted_Results, dtype: int64"
      ]
     },
     "execution_count": 24,
     "metadata": {},
     "output_type": "execute_result"
    }
   ],
   "source": [
    "#构造特征空间\n",
    "\n",
    "data=pd.read_csv('./clean_df_test.csv',index_col='Unnamed: 0')\n",
    "\n",
    "model_load_file = open(r'ohe_keyf.model', 'rb')\n",
    "ohe_keyf_r = pickle.load(model_load_file)\n",
    "model_load_file.close()\n",
    "\n",
    "cates=['用户地区', '性别','产品服务使用量', '是否为活跃用户']\n",
    "result=ohe_keyf_r.transform( data[cates] )\n",
    "df_catefeature=pd.DataFrame(result.toarray(),columns=ohe_keyf_r.get_feature_names())\n",
    "\n",
    "cates=['产品使用分数', '年龄', '点数余额']\n",
    "objs=[df_catefeature,data[cates]]\n",
    "X=pd.concat(objs,axis=1)\n",
    "\n",
    "#导入预测模型\n",
    "model_load_file = open(r'best_b_XGBClassifier.model', 'rb')\n",
    "xgb_b_r = pickle.load(model_load_file)\n",
    "model_load_file.close()\n",
    "\n",
    "#预测并保存\n",
    "\n",
    "Y_pre=xgb_b_r.predict(X)\n",
    "\n",
    "data['Predicted_Results']=Y_pre\n",
    "results=data[['客户ID','Predicted_Results']]\n",
    "results.to_csv('./results_xgb_b.csv',index=False)\n",
    "\n",
    "results.Predicted_Results.value_counts()"
   ]
  },
  {
   "cell_type": "code",
   "execution_count": null,
   "metadata": {},
   "outputs": [],
   "source": []
  }
 ],
 "metadata": {
  "kernelspec": {
   "display_name": "Python 3",
   "language": "python",
   "name": "python3"
  },
  "language_info": {
   "codemirror_mode": {
    "name": "ipython",
    "version": 3
   },
   "file_extension": ".py",
   "mimetype": "text/x-python",
   "name": "python",
   "nbconvert_exporter": "python",
   "pygments_lexer": "ipython3",
   "version": "3.7.4"
  }
 },
 "nbformat": 4,
 "nbformat_minor": 2
}

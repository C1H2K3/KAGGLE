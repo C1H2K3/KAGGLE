{
 "cells": [
  {
   "cell_type": "code",
   "execution_count": 1,
   "metadata": {},
   "outputs": [
    {
     "name": "stderr",
     "output_type": "stream",
     "text": [
      "C:\\ProgramData\\Anaconda3\\lib\\site-packages\\sklearn\\externals\\joblib\\__init__.py:15: DeprecationWarning: sklearn.externals.joblib is deprecated in 0.21 and will be removed in 0.23. Please import this functionality directly from joblib, which can be installed with: pip install joblib. If this warning is raised when loading pickled models, you may need to re-serialize those models with scikit-learn 0.21+.\n",
      "  warnings.warn(msg, category=DeprecationWarning)\n"
     ]
    }
   ],
   "source": [
    "#-------------辅助工具-------------#\n",
    "import os #文档路径\n",
    "import numpy as np\n",
    "import pandas as pd\n",
    "pd.options.display.max_columns = None  # 显示所有列\n",
    "pd.set_option('display.float_format', lambda x: '%.4f' % x)  # 取消科学计数法\n",
    "\n",
    "from time import time #计时\n",
    "import datetime\n",
    "\n",
    "from IPython.core.interactiveshell import InteractiveShell\n",
    "InteractiveShell.ast_node_interactivity = \"all\" #显示所有输出\n",
    "\n",
    "import pickle #训练模型的保存与读取\n",
    "from sklearn.externals import joblib #保存训练模型\n",
    "\n",
    "#-------------数据可视化工具-------------#\n",
    "import matplotlib.pyplot as plt\n",
    "import seaborn as sns\n",
    "\n",
    "plt.rcParams['font.sans-serif'] = ['Simhei'] # 解决中文乱码问题\n",
    "plt.rcParams['axes.unicode_minus'] = False # 解决坐标轴刻度负号乱码\n",
    "\n",
    "#-------------数据清洗工具-------------#\n",
    "from sklearn.impute import SimpleImputer #缺失值填充\n",
    "from sklearn.ensemble import RandomForestRegressor #也可作为数据清洗工具，填充缺失值；\n",
    "from sklearn.ensemble import RandomForestClassifier  #也可作为数据清洗工具，填充缺失值；能接受输入空间存子异常值，但不能接受空值\n",
    "\n",
    "#-------------统计检验工具-------------#\n",
    "from scipy.stats import chi2_contingency #数值型特征检验，检验特征与标签的关系\n",
    "from scipy.stats import f_oneway #分类型特征检验，检验特征与标签的关系\n",
    "from scipy.stats import ttest_ind #分类型特征检验，检验特征与标签的关系"
   ]
  },
  {
   "cell_type": "markdown",
   "metadata": {},
   "source": [
    "### 三、数据探索分析"
   ]
  },
  {
   "cell_type": "code",
   "execution_count": 2,
   "metadata": {},
   "outputs": [
    {
     "data": {
      "text/plain": [
       "(6000, 12)"
      ]
     },
     "execution_count": 2,
     "metadata": {},
     "output_type": "execute_result"
    },
    {
     "data": {
      "text/html": [
       "<div>\n",
       "<style scoped>\n",
       "    .dataframe tbody tr th:only-of-type {\n",
       "        vertical-align: middle;\n",
       "    }\n",
       "\n",
       "    .dataframe tbody tr th {\n",
       "        vertical-align: top;\n",
       "    }\n",
       "\n",
       "    .dataframe thead th {\n",
       "        text-align: right;\n",
       "    }\n",
       "</style>\n",
       "<table border=\"1\" class=\"dataframe\">\n",
       "  <thead>\n",
       "    <tr style=\"text-align: right;\">\n",
       "      <th></th>\n",
       "      <th>产品使用分数</th>\n",
       "      <th>用户地区</th>\n",
       "      <th>性别</th>\n",
       "      <th>年龄</th>\n",
       "      <th>使用累计时间</th>\n",
       "      <th>点数余额</th>\n",
       "      <th>产品服务使用量</th>\n",
       "      <th>是否使用信用卡付月费</th>\n",
       "      <th>是否为活跃用户</th>\n",
       "      <th>估计薪资</th>\n",
       "      <th>购买与否</th>\n",
       "      <th>客户ID</th>\n",
       "    </tr>\n",
       "  </thead>\n",
       "  <tbody>\n",
       "    <tr>\n",
       "      <td>0</td>\n",
       "      <td>628.0000</td>\n",
       "      <td>1</td>\n",
       "      <td>1</td>\n",
       "      <td>51.0000</td>\n",
       "      <td>2</td>\n",
       "      <td>155903.8200</td>\n",
       "      <td>2</td>\n",
       "      <td>1</td>\n",
       "      <td>1</td>\n",
       "      <td>71159.8400</td>\n",
       "      <td>0</td>\n",
       "      <td>6518</td>\n",
       "    </tr>\n",
       "    <tr>\n",
       "      <td>1</td>\n",
       "      <td>696.0000</td>\n",
       "      <td>0</td>\n",
       "      <td>1</td>\n",
       "      <td>27.0000</td>\n",
       "      <td>4</td>\n",
       "      <td>20026.2949</td>\n",
       "      <td>2</td>\n",
       "      <td>0</td>\n",
       "      <td>0</td>\n",
       "      <td>196111.3500</td>\n",
       "      <td>0</td>\n",
       "      <td>5195</td>\n",
       "    </tr>\n",
       "    <tr>\n",
       "      <td>2</td>\n",
       "      <td>655.3096</td>\n",
       "      <td>1</td>\n",
       "      <td>0</td>\n",
       "      <td>40.0000</td>\n",
       "      <td>3</td>\n",
       "      <td>114796.4766</td>\n",
       "      <td>2</td>\n",
       "      <td>1</td>\n",
       "      <td>1</td>\n",
       "      <td>92655.0312</td>\n",
       "      <td>0</td>\n",
       "      <td>1786</td>\n",
       "    </tr>\n",
       "    <tr>\n",
       "      <td>3</td>\n",
       "      <td>640.4673</td>\n",
       "      <td>0</td>\n",
       "      <td>0</td>\n",
       "      <td>39.1471</td>\n",
       "      <td>3</td>\n",
       "      <td>93346.4766</td>\n",
       "      <td>1</td>\n",
       "      <td>1</td>\n",
       "      <td>0</td>\n",
       "      <td>82969.5469</td>\n",
       "      <td>1</td>\n",
       "      <td>6151</td>\n",
       "    </tr>\n",
       "    <tr>\n",
       "      <td>4</td>\n",
       "      <td>666.4573</td>\n",
       "      <td>2</td>\n",
       "      <td>0</td>\n",
       "      <td>27.0000</td>\n",
       "      <td>9</td>\n",
       "      <td>0.0000</td>\n",
       "      <td>1</td>\n",
       "      <td>1</td>\n",
       "      <td>1</td>\n",
       "      <td>107955.6700</td>\n",
       "      <td>0</td>\n",
       "      <td>7577</td>\n",
       "    </tr>\n",
       "  </tbody>\n",
       "</table>\n",
       "</div>"
      ],
      "text/plain": [
       "    产品使用分数  用户地区  性别      年龄  使用累计时间        点数余额  产品服务使用量  是否使用信用卡付月费  \\\n",
       "0 628.0000     1   1 51.0000       2 155903.8200        2           1   \n",
       "1 696.0000     0   1 27.0000       4  20026.2949        2           0   \n",
       "2 655.3096     1   0 40.0000       3 114796.4766        2           1   \n",
       "3 640.4673     0   0 39.1471       3  93346.4766        1           1   \n",
       "4 666.4573     2   0 27.0000       9      0.0000        1           1   \n",
       "\n",
       "   是否为活跃用户        估计薪资  购买与否  客户ID  \n",
       "0        1  71159.8400     0  6518  \n",
       "1        0 196111.3500     0  5195  \n",
       "2        1  92655.0312     0  1786  \n",
       "3        0  82969.5469     1  6151  \n",
       "4        1 107955.6700     0  7577  "
      ]
     },
     "execution_count": 2,
     "metadata": {},
     "output_type": "execute_result"
    }
   ],
   "source": [
    "data=pd.read_csv('./clean_df_train.csv',index_col='Unnamed: 0')\n",
    "data.shape\n",
    "data.head()"
   ]
  },
  {
   "cell_type": "code",
   "execution_count": 3,
   "metadata": {},
   "outputs": [
    {
     "name": "stdout",
     "output_type": "stream",
     "text": [
      "<class 'pandas.core.frame.DataFrame'>\n",
      "Int64Index: 6000 entries, 0 to 5999\n",
      "Data columns (total 12 columns):\n",
      "产品使用分数        6000 non-null float64\n",
      "用户地区          6000 non-null int64\n",
      "性别            6000 non-null int64\n",
      "年龄            6000 non-null float64\n",
      "使用累计时间        6000 non-null int64\n",
      "点数余额          6000 non-null float64\n",
      "产品服务使用量       6000 non-null int64\n",
      "是否使用信用卡付月费    6000 non-null int64\n",
      "是否为活跃用户       6000 non-null int64\n",
      "估计薪资          6000 non-null float64\n",
      "购买与否          6000 non-null int64\n",
      "客户ID          6000 non-null int64\n",
      "dtypes: float64(4), int64(8)\n",
      "memory usage: 609.4 KB\n"
     ]
    }
   ],
   "source": [
    "data.info()"
   ]
  },
  {
   "cell_type": "code",
   "execution_count": 4,
   "metadata": {},
   "outputs": [],
   "source": [
    "cates=['产品使用分数', '年龄', '点数余额','估计薪资']\n",
    "cates=['用户地区', '性别', '使用累计时间','产品服务使用量', '是否使用信用卡付月费','是否为活跃用户']"
   ]
  },
  {
   "cell_type": "markdown",
   "metadata": {},
   "source": [
    "### （一）单变量分析"
   ]
  },
  {
   "cell_type": "markdown",
   "metadata": {},
   "source": [
    "(1)类别特征"
   ]
  },
  {
   "cell_type": "code",
   "execution_count": 4,
   "metadata": {},
   "outputs": [
    {
     "data": {
      "text/html": [
       "<div>\n",
       "<style scoped>\n",
       "    .dataframe tbody tr th:only-of-type {\n",
       "        vertical-align: middle;\n",
       "    }\n",
       "\n",
       "    .dataframe tbody tr th {\n",
       "        vertical-align: top;\n",
       "    }\n",
       "\n",
       "    .dataframe thead th {\n",
       "        text-align: right;\n",
       "    }\n",
       "</style>\n",
       "<table border=\"1\" class=\"dataframe\">\n",
       "  <thead>\n",
       "    <tr style=\"text-align: right;\">\n",
       "      <th></th>\n",
       "      <th>用户地区</th>\n",
       "      <th>比重</th>\n",
       "    </tr>\n",
       "  </thead>\n",
       "  <tbody>\n",
       "    <tr>\n",
       "      <td>0</td>\n",
       "      <td>3468</td>\n",
       "      <td>0.5780</td>\n",
       "    </tr>\n",
       "    <tr>\n",
       "      <td>1</td>\n",
       "      <td>1464</td>\n",
       "      <td>0.2440</td>\n",
       "    </tr>\n",
       "    <tr>\n",
       "      <td>2</td>\n",
       "      <td>1068</td>\n",
       "      <td>0.1780</td>\n",
       "    </tr>\n",
       "  </tbody>\n",
       "</table>\n",
       "</div>"
      ],
      "text/plain": [
       "   用户地区     比重\n",
       "0  3468 0.5780\n",
       "1  1464 0.2440\n",
       "2  1068 0.1780"
      ]
     },
     "execution_count": 4,
     "metadata": {},
     "output_type": "execute_result"
    },
    {
     "data": {
      "text/html": [
       "<div>\n",
       "<style scoped>\n",
       "    .dataframe tbody tr th:only-of-type {\n",
       "        vertical-align: middle;\n",
       "    }\n",
       "\n",
       "    .dataframe tbody tr th {\n",
       "        vertical-align: top;\n",
       "    }\n",
       "\n",
       "    .dataframe thead th {\n",
       "        text-align: right;\n",
       "    }\n",
       "</style>\n",
       "<table border=\"1\" class=\"dataframe\">\n",
       "  <thead>\n",
       "    <tr style=\"text-align: right;\">\n",
       "      <th></th>\n",
       "      <th>性别</th>\n",
       "      <th>比重</th>\n",
       "    </tr>\n",
       "  </thead>\n",
       "  <tbody>\n",
       "    <tr>\n",
       "      <td>0</td>\n",
       "      <td>3774</td>\n",
       "      <td>0.6290</td>\n",
       "    </tr>\n",
       "    <tr>\n",
       "      <td>1</td>\n",
       "      <td>2226</td>\n",
       "      <td>0.3710</td>\n",
       "    </tr>\n",
       "  </tbody>\n",
       "</table>\n",
       "</div>"
      ],
      "text/plain": [
       "     性别     比重\n",
       "0  3774 0.6290\n",
       "1  2226 0.3710"
      ]
     },
     "execution_count": 4,
     "metadata": {},
     "output_type": "execute_result"
    },
    {
     "data": {
      "text/html": [
       "<div>\n",
       "<style scoped>\n",
       "    .dataframe tbody tr th:only-of-type {\n",
       "        vertical-align: middle;\n",
       "    }\n",
       "\n",
       "    .dataframe tbody tr th {\n",
       "        vertical-align: top;\n",
       "    }\n",
       "\n",
       "    .dataframe thead th {\n",
       "        text-align: right;\n",
       "    }\n",
       "</style>\n",
       "<table border=\"1\" class=\"dataframe\">\n",
       "  <thead>\n",
       "    <tr style=\"text-align: right;\">\n",
       "      <th></th>\n",
       "      <th>使用累计时间</th>\n",
       "      <th>比重</th>\n",
       "    </tr>\n",
       "  </thead>\n",
       "  <tbody>\n",
       "    <tr>\n",
       "      <td>4</td>\n",
       "      <td>701</td>\n",
       "      <td>0.1168</td>\n",
       "    </tr>\n",
       "    <tr>\n",
       "      <td>9</td>\n",
       "      <td>690</td>\n",
       "      <td>0.1150</td>\n",
       "    </tr>\n",
       "    <tr>\n",
       "      <td>2</td>\n",
       "      <td>682</td>\n",
       "      <td>0.1137</td>\n",
       "    </tr>\n",
       "    <tr>\n",
       "      <td>3</td>\n",
       "      <td>632</td>\n",
       "      <td>0.1053</td>\n",
       "    </tr>\n",
       "    <tr>\n",
       "      <td>8</td>\n",
       "      <td>616</td>\n",
       "      <td>0.1027</td>\n",
       "    </tr>\n",
       "    <tr>\n",
       "      <td>1</td>\n",
       "      <td>600</td>\n",
       "      <td>0.1000</td>\n",
       "    </tr>\n",
       "    <tr>\n",
       "      <td>5</td>\n",
       "      <td>592</td>\n",
       "      <td>0.0987</td>\n",
       "    </tr>\n",
       "    <tr>\n",
       "      <td>6</td>\n",
       "      <td>552</td>\n",
       "      <td>0.0920</td>\n",
       "    </tr>\n",
       "    <tr>\n",
       "      <td>7</td>\n",
       "      <td>543</td>\n",
       "      <td>0.0905</td>\n",
       "    </tr>\n",
       "    <tr>\n",
       "      <td>10</td>\n",
       "      <td>206</td>\n",
       "      <td>0.0343</td>\n",
       "    </tr>\n",
       "    <tr>\n",
       "      <td>0</td>\n",
       "      <td>186</td>\n",
       "      <td>0.0310</td>\n",
       "    </tr>\n",
       "  </tbody>\n",
       "</table>\n",
       "</div>"
      ],
      "text/plain": [
       "    使用累计时间     比重\n",
       "4      701 0.1168\n",
       "9      690 0.1150\n",
       "2      682 0.1137\n",
       "3      632 0.1053\n",
       "8      616 0.1027\n",
       "1      600 0.1000\n",
       "5      592 0.0987\n",
       "6      552 0.0920\n",
       "7      543 0.0905\n",
       "10     206 0.0343\n",
       "0      186 0.0310"
      ]
     },
     "execution_count": 4,
     "metadata": {},
     "output_type": "execute_result"
    },
    {
     "data": {
      "text/html": [
       "<div>\n",
       "<style scoped>\n",
       "    .dataframe tbody tr th:only-of-type {\n",
       "        vertical-align: middle;\n",
       "    }\n",
       "\n",
       "    .dataframe tbody tr th {\n",
       "        vertical-align: top;\n",
       "    }\n",
       "\n",
       "    .dataframe thead th {\n",
       "        text-align: right;\n",
       "    }\n",
       "</style>\n",
       "<table border=\"1\" class=\"dataframe\">\n",
       "  <thead>\n",
       "    <tr style=\"text-align: right;\">\n",
       "      <th></th>\n",
       "      <th>产品服务使用量</th>\n",
       "      <th>比重</th>\n",
       "    </tr>\n",
       "  </thead>\n",
       "  <tbody>\n",
       "    <tr>\n",
       "      <td>1</td>\n",
       "      <td>3266</td>\n",
       "      <td>0.5443</td>\n",
       "    </tr>\n",
       "    <tr>\n",
       "      <td>2</td>\n",
       "      <td>2595</td>\n",
       "      <td>0.4325</td>\n",
       "    </tr>\n",
       "    <tr>\n",
       "      <td>3</td>\n",
       "      <td>116</td>\n",
       "      <td>0.0193</td>\n",
       "    </tr>\n",
       "    <tr>\n",
       "      <td>4</td>\n",
       "      <td>23</td>\n",
       "      <td>0.0038</td>\n",
       "    </tr>\n",
       "  </tbody>\n",
       "</table>\n",
       "</div>"
      ],
      "text/plain": [
       "   产品服务使用量     比重\n",
       "1     3266 0.5443\n",
       "2     2595 0.4325\n",
       "3      116 0.0193\n",
       "4       23 0.0038"
      ]
     },
     "execution_count": 4,
     "metadata": {},
     "output_type": "execute_result"
    },
    {
     "data": {
      "text/html": [
       "<div>\n",
       "<style scoped>\n",
       "    .dataframe tbody tr th:only-of-type {\n",
       "        vertical-align: middle;\n",
       "    }\n",
       "\n",
       "    .dataframe tbody tr th {\n",
       "        vertical-align: top;\n",
       "    }\n",
       "\n",
       "    .dataframe thead th {\n",
       "        text-align: right;\n",
       "    }\n",
       "</style>\n",
       "<table border=\"1\" class=\"dataframe\">\n",
       "  <thead>\n",
       "    <tr style=\"text-align: right;\">\n",
       "      <th></th>\n",
       "      <th>是否使用信用卡付月费</th>\n",
       "      <th>比重</th>\n",
       "    </tr>\n",
       "  </thead>\n",
       "  <tbody>\n",
       "    <tr>\n",
       "      <td>1</td>\n",
       "      <td>4761</td>\n",
       "      <td>0.7935</td>\n",
       "    </tr>\n",
       "    <tr>\n",
       "      <td>0</td>\n",
       "      <td>1239</td>\n",
       "      <td>0.2065</td>\n",
       "    </tr>\n",
       "  </tbody>\n",
       "</table>\n",
       "</div>"
      ],
      "text/plain": [
       "   是否使用信用卡付月费     比重\n",
       "1        4761 0.7935\n",
       "0        1239 0.2065"
      ]
     },
     "execution_count": 4,
     "metadata": {},
     "output_type": "execute_result"
    },
    {
     "data": {
      "text/html": [
       "<div>\n",
       "<style scoped>\n",
       "    .dataframe tbody tr th:only-of-type {\n",
       "        vertical-align: middle;\n",
       "    }\n",
       "\n",
       "    .dataframe tbody tr th {\n",
       "        vertical-align: top;\n",
       "    }\n",
       "\n",
       "    .dataframe thead th {\n",
       "        text-align: right;\n",
       "    }\n",
       "</style>\n",
       "<table border=\"1\" class=\"dataframe\">\n",
       "  <thead>\n",
       "    <tr style=\"text-align: right;\">\n",
       "      <th></th>\n",
       "      <th>是否为活跃用户</th>\n",
       "      <th>比重</th>\n",
       "    </tr>\n",
       "  </thead>\n",
       "  <tbody>\n",
       "    <tr>\n",
       "      <td>1</td>\n",
       "      <td>3234</td>\n",
       "      <td>0.5390</td>\n",
       "    </tr>\n",
       "    <tr>\n",
       "      <td>0</td>\n",
       "      <td>2766</td>\n",
       "      <td>0.4610</td>\n",
       "    </tr>\n",
       "  </tbody>\n",
       "</table>\n",
       "</div>"
      ],
      "text/plain": [
       "   是否为活跃用户     比重\n",
       "1     3234 0.5390\n",
       "0     2766 0.4610"
      ]
     },
     "execution_count": 4,
     "metadata": {},
     "output_type": "execute_result"
    }
   ],
   "source": [
    "cates=['用户地区', '性别', '使用累计时间','产品服务使用量', '是否使用信用卡付月费','是否为活跃用户']\n",
    "for cate in cates:\n",
    "    df=data[cate].value_counts() #默认降序排列\n",
    "    df=pd.concat([df,df/data.shape[0]],axis=1)\n",
    "    df.columns=[cate,'比重']\n",
    "    df\n",
    "    \n",
    "# 用户地区0，1，2，分别是Taipei，Taichung，Tainan\n",
    "# 性别0，1，分别是男性，女性"
   ]
  },
  {
   "cell_type": "markdown",
   "metadata": {},
   "source": [
    "（2）数值特征"
   ]
  },
  {
   "cell_type": "code",
   "execution_count": 5,
   "metadata": {},
   "outputs": [
    {
     "data": {
      "text/plain": [
       "<matplotlib.axes._subplots.AxesSubplot at 0x1e971305448>"
      ]
     },
     "execution_count": 5,
     "metadata": {},
     "output_type": "execute_result"
    },
    {
     "data": {
      "image/png": "[encoded data removed]",
      "text/plain": [
       "<Figure size 432x288 with 1 Axes>"
      ]
     },
     "metadata": {
      "needs_background": "light"
     },
     "output_type": "display_data"
    },
    {
     "data": {
      "text/plain": [
       "<matplotlib.axes._subplots.AxesSubplot at 0x1e971693fc8>"
      ]
     },
     "execution_count": 5,
     "metadata": {},
     "output_type": "execute_result"
    },
    {
     "data": {
      "image/png": "[encoded data removed]",
      "text/plain": [
       "<Figure size 432x288 with 1 Axes>"
      ]
     },
     "metadata": {
      "needs_background": "light"
     },
     "output_type": "display_data"
    },
    {
     "data": {
      "text/plain": [
       "<matplotlib.axes._subplots.AxesSubplot at 0x1e971706ac8>"
      ]
     },
     "execution_count": 5,
     "metadata": {},
     "output_type": "execute_result"
    },
    {
     "data": {
      "image/png": "[encoded data removed]",
      "text/plain": [
       "<Figure size 432x288 with 1 Axes>"
      ]
     },
     "metadata": {
      "needs_background": "light"
     },
     "output_type": "display_data"
    },
    {
     "data": {
      "text/plain": [
       "<matplotlib.axes._subplots.AxesSubplot at 0x1e971769648>"
      ]
     },
     "execution_count": 5,
     "metadata": {},
     "output_type": "execute_result"
    },
    {
     "data": {
      "image/png": "[encoded data removed]",
      "text/plain": [
       "<Figure size 432x288 with 1 Axes>"
      ]
     },
     "metadata": {
      "needs_background": "light"
     },
     "output_type": "display_data"
    }
   ],
   "source": [
    "cates=['产品使用分数', '年龄', '点数余额','估计薪资']\n",
    "for cate in cates:\n",
    "    data[cate].plot(kind='box')\n",
    "    plt.show()"
   ]
  },
  {
   "cell_type": "code",
   "execution_count": 6,
   "metadata": {},
   "outputs": [
    {
     "data": {
      "text/plain": [
       "<matplotlib.axes._subplots.AxesSubplot at 0x1e9717df7c8>"
      ]
     },
     "execution_count": 6,
     "metadata": {},
     "output_type": "execute_result"
    },
    {
     "data": {
      "text/plain": [
       "Text(0.5, 1.0, '产品使用分数')"
      ]
     },
     "execution_count": 6,
     "metadata": {},
     "output_type": "execute_result"
    },
    {
     "data": {
      "image/png": "[encoded data removed]",
      "text/plain": [
       "<Figure size 432x288 with 1 Axes>"
      ]
     },
     "metadata": {
      "needs_background": "light"
     },
     "output_type": "display_data"
    },
    {
     "data": {
      "text/plain": [
       "<matplotlib.axes._subplots.AxesSubplot at 0x1e96bb47c88>"
      ]
     },
     "execution_count": 6,
     "metadata": {},
     "output_type": "execute_result"
    },
    {
     "data": {
      "text/plain": [
       "Text(0.5, 1.0, '年龄')"
      ]
     },
     "execution_count": 6,
     "metadata": {},
     "output_type": "execute_result"
    },
    {
     "data": {
      "image/png": "[encoded data removed]",
      "text/plain": [
       "<Figure size 432x288 with 1 Axes>"
      ]
     },
     "metadata": {
      "needs_background": "light"
     },
     "output_type": "display_data"
    },
    {
     "data": {
      "text/plain": [
       "<matplotlib.axes._subplots.AxesSubplot at 0x1e971876508>"
      ]
     },
     "execution_count": 6,
     "metadata": {},
     "output_type": "execute_result"
    },
    {
     "data": {
      "text/plain": [
       "Text(0.5, 1.0, '点数余额')"
      ]
     },
     "execution_count": 6,
     "metadata": {},
     "output_type": "execute_result"
    },
    {
     "data": {
      "image/png": "[encoded data removed]",
      "text/plain": [
       "<Figure size 432x288 with 1 Axes>"
      ]
     },
     "metadata": {
      "needs_background": "light"
     },
     "output_type": "display_data"
    },
    {
     "data": {
      "text/plain": [
       "<matplotlib.axes._subplots.AxesSubplot at 0x1e9718c3208>"
      ]
     },
     "execution_count": 6,
     "metadata": {},
     "output_type": "execute_result"
    },
    {
     "data": {
      "text/plain": [
       "Text(0.5, 1.0, '估计薪资')"
      ]
     },
     "execution_count": 6,
     "metadata": {},
     "output_type": "execute_result"
    },
    {
     "data": {
      "image/png": "[encoded data removed]",
      "text/plain": [
       "<Figure size 432x288 with 1 Axes>"
      ]
     },
     "metadata": {
      "needs_background": "light"
     },
     "output_type": "display_data"
    }
   ],
   "source": [
    "cates=['产品使用分数', '年龄', '点数余额','估计薪资']\n",
    "for cate in cates:\n",
    "    data[cate].plot(kind='kde')\n",
    "    plt.title(cate)\n",
    "    plt.show()"
   ]
  },
  {
   "cell_type": "code",
   "execution_count": 7,
   "metadata": {},
   "outputs": [
    {
     "data": {
      "text/plain": [
       "<matplotlib.axes._subplots.AxesSubplot at 0x1e97192e288>"
      ]
     },
     "execution_count": 7,
     "metadata": {},
     "output_type": "execute_result"
    },
    {
     "data": {
      "text/plain": [
       "Text(0.5, 1.0, '产品使用分数')"
      ]
     },
     "execution_count": 7,
     "metadata": {},
     "output_type": "execute_result"
    },
    {
     "data": {
      "image/png": "[encoded data removed]",
      "text/plain": [
       "<Figure size 432x288 with 1 Axes>"
      ]
     },
     "metadata": {
      "needs_background": "light"
     },
     "output_type": "display_data"
    },
    {
     "data": {
      "text/plain": [
       "<matplotlib.axes._subplots.AxesSubplot at 0x1e9719c4708>"
      ]
     },
     "execution_count": 7,
     "metadata": {},
     "output_type": "execute_result"
    },
    {
     "data": {
      "text/plain": [
       "Text(0.5, 1.0, '年龄')"
      ]
     },
     "execution_count": 7,
     "metadata": {},
     "output_type": "execute_result"
    },
    {
     "data": {
      "image/png": "[encoded data removed]",
      "text/plain": [
       "<Figure size 432x288 with 1 Axes>"
      ]
     },
     "metadata": {
      "needs_background": "light"
     },
     "output_type": "display_data"
    },
    {
     "data": {
      "text/plain": [
       "<matplotlib.axes._subplots.AxesSubplot at 0x1e971a4fdc8>"
      ]
     },
     "execution_count": 7,
     "metadata": {},
     "output_type": "execute_result"
    },
    {
     "data": {
      "text/plain": [
       "Text(0.5, 1.0, '点数余额')"
      ]
     },
     "execution_count": 7,
     "metadata": {},
     "output_type": "execute_result"
    },
    {
     "data": {
      "image/png": "[encoded data removed]",
      "text/plain": [
       "<Figure size 432x288 with 1 Axes>"
      ]
     },
     "metadata": {
      "needs_background": "light"
     },
     "output_type": "display_data"
    },
    {
     "data": {
      "text/plain": [
       "<matplotlib.axes._subplots.AxesSubplot at 0x1e971acb048>"
      ]
     },
     "execution_count": 7,
     "metadata": {},
     "output_type": "execute_result"
    },
    {
     "data": {
      "text/plain": [
       "Text(0.5, 1.0, '估计薪资')"
      ]
     },
     "execution_count": 7,
     "metadata": {},
     "output_type": "execute_result"
    },
    {
     "data": {
      "image/png": "[encoded data removed]",
      "text/plain": [
       "<Figure size 432x288 with 1 Axes>"
      ]
     },
     "metadata": {
      "needs_background": "light"
     },
     "output_type": "display_data"
    }
   ],
   "source": [
    "cates=['产品使用分数', '年龄', '点数余额','估计薪资']\n",
    "for cate in cates:\n",
    "    data[cate].plot(kind='hist')\n",
    "    plt.title(cate)\n",
    "    plt.show()"
   ]
  },
  {
   "cell_type": "markdown",
   "metadata": {},
   "source": [
    "### （二）特征与标签的关系"
   ]
  },
  {
   "cell_type": "code",
   "execution_count": 8,
   "metadata": {},
   "outputs": [
    {
     "data": {
      "text/plain": [
       "0    4777\n",
       "1    1223\n",
       "Name: 购买与否, dtype: int64"
      ]
     },
     "execution_count": 8,
     "metadata": {},
     "output_type": "execute_result"
    },
    {
     "data": {
      "text/plain": [
       "0   0.7962\n",
       "1   0.2038\n",
       "Name: 购买与否, dtype: float64"
      ]
     },
     "execution_count": 8,
     "metadata": {},
     "output_type": "execute_result"
    }
   ],
   "source": [
    "data['购买与否'].value_counts()\n",
    "data['购买与否'].value_counts()/data.shape[0]"
   ]
  },
  {
   "cell_type": "markdown",
   "metadata": {},
   "source": [
    "(1)类别特征"
   ]
  },
  {
   "cell_type": "code",
   "execution_count": 9,
   "metadata": {},
   "outputs": [
    {
     "name": "stdout",
     "output_type": "stream",
     "text": [
      "用户地区 取值比重：\n"
     ]
    },
    {
     "data": {
      "text/html": [
       "<div>\n",
       "<style scoped>\n",
       "    .dataframe tbody tr th:only-of-type {\n",
       "        vertical-align: middle;\n",
       "    }\n",
       "\n",
       "    .dataframe tbody tr th {\n",
       "        vertical-align: top;\n",
       "    }\n",
       "\n",
       "    .dataframe thead th {\n",
       "        text-align: right;\n",
       "    }\n",
       "</style>\n",
       "<table border=\"1\" class=\"dataframe\">\n",
       "  <thead>\n",
       "    <tr style=\"text-align: right;\">\n",
       "      <th>用户地区</th>\n",
       "      <th>0</th>\n",
       "      <th>1</th>\n",
       "      <th>2</th>\n",
       "    </tr>\n",
       "    <tr>\n",
       "      <th>购买与否</th>\n",
       "      <th></th>\n",
       "      <th></th>\n",
       "      <th></th>\n",
       "    </tr>\n",
       "  </thead>\n",
       "  <tbody>\n",
       "    <tr>\n",
       "      <td>0</td>\n",
       "      <td>0.8279</td>\n",
       "      <td>0.6906</td>\n",
       "      <td>0.8380</td>\n",
       "    </tr>\n",
       "    <tr>\n",
       "      <td>1</td>\n",
       "      <td>0.1721</td>\n",
       "      <td>0.3094</td>\n",
       "      <td>0.1620</td>\n",
       "    </tr>\n",
       "  </tbody>\n",
       "</table>\n",
       "</div>"
      ],
      "text/plain": [
       "用户地区      0      1      2\n",
       "购买与否                     \n",
       "0    0.8279 0.6906 0.8380\n",
       "1    0.1721 0.3094 0.1620"
      ]
     },
     "execution_count": 9,
     "metadata": {},
     "output_type": "execute_result"
    },
    {
     "name": "stdout",
     "output_type": "stream",
     "text": [
      "性别 取值比重：\n"
     ]
    },
    {
     "data": {
      "text/html": [
       "<div>\n",
       "<style scoped>\n",
       "    .dataframe tbody tr th:only-of-type {\n",
       "        vertical-align: middle;\n",
       "    }\n",
       "\n",
       "    .dataframe tbody tr th {\n",
       "        vertical-align: top;\n",
       "    }\n",
       "\n",
       "    .dataframe thead th {\n",
       "        text-align: right;\n",
       "    }\n",
       "</style>\n",
       "<table border=\"1\" class=\"dataframe\">\n",
       "  <thead>\n",
       "    <tr style=\"text-align: right;\">\n",
       "      <th>性别</th>\n",
       "      <th>0</th>\n",
       "      <th>1</th>\n",
       "    </tr>\n",
       "    <tr>\n",
       "      <th>购买与否</th>\n",
       "      <th></th>\n",
       "      <th></th>\n",
       "    </tr>\n",
       "  </thead>\n",
       "  <tbody>\n",
       "    <tr>\n",
       "      <td>0</td>\n",
       "      <td>0.8328</td>\n",
       "      <td>0.7341</td>\n",
       "    </tr>\n",
       "    <tr>\n",
       "      <td>1</td>\n",
       "      <td>0.1672</td>\n",
       "      <td>0.2659</td>\n",
       "    </tr>\n",
       "  </tbody>\n",
       "</table>\n",
       "</div>"
      ],
      "text/plain": [
       "性别        0      1\n",
       "购买与否              \n",
       "0    0.8328 0.7341\n",
       "1    0.1672 0.2659"
      ]
     },
     "execution_count": 9,
     "metadata": {},
     "output_type": "execute_result"
    },
    {
     "name": "stdout",
     "output_type": "stream",
     "text": [
      "使用累计时间 取值比重：\n"
     ]
    },
    {
     "data": {
      "text/html": [
       "<div>\n",
       "<style scoped>\n",
       "    .dataframe tbody tr th:only-of-type {\n",
       "        vertical-align: middle;\n",
       "    }\n",
       "\n",
       "    .dataframe tbody tr th {\n",
       "        vertical-align: top;\n",
       "    }\n",
       "\n",
       "    .dataframe thead th {\n",
       "        text-align: right;\n",
       "    }\n",
       "</style>\n",
       "<table border=\"1\" class=\"dataframe\">\n",
       "  <thead>\n",
       "    <tr style=\"text-align: right;\">\n",
       "      <th></th>\n",
       "      <th>0</th>\n",
       "      <th>1</th>\n",
       "      <th>2</th>\n",
       "      <th>3</th>\n",
       "      <th>4</th>\n",
       "      <th>5</th>\n",
       "      <th>6</th>\n",
       "      <th>7</th>\n",
       "      <th>8</th>\n",
       "      <th>9</th>\n",
       "      <th>10</th>\n",
       "    </tr>\n",
       "    <tr>\n",
       "      <th>购买与否</th>\n",
       "      <th></th>\n",
       "      <th></th>\n",
       "      <th></th>\n",
       "      <th></th>\n",
       "      <th></th>\n",
       "      <th></th>\n",
       "      <th></th>\n",
       "      <th></th>\n",
       "      <th></th>\n",
       "      <th></th>\n",
       "      <th></th>\n",
       "    </tr>\n",
       "  </thead>\n",
       "  <tbody>\n",
       "    <tr>\n",
       "      <td>0</td>\n",
       "      <td>0.7312</td>\n",
       "      <td>0.7983</td>\n",
       "      <td>0.8109</td>\n",
       "      <td>0.7896</td>\n",
       "      <td>0.8174</td>\n",
       "      <td>0.7905</td>\n",
       "      <td>0.8225</td>\n",
       "      <td>0.7956</td>\n",
       "      <td>0.8182</td>\n",
       "      <td>0.7507</td>\n",
       "      <td>0.7816</td>\n",
       "    </tr>\n",
       "    <tr>\n",
       "      <td>1</td>\n",
       "      <td>0.2688</td>\n",
       "      <td>0.2017</td>\n",
       "      <td>0.1891</td>\n",
       "      <td>0.2104</td>\n",
       "      <td>0.1826</td>\n",
       "      <td>0.2095</td>\n",
       "      <td>0.1775</td>\n",
       "      <td>0.2044</td>\n",
       "      <td>0.1818</td>\n",
       "      <td>0.2493</td>\n",
       "      <td>0.2184</td>\n",
       "    </tr>\n",
       "  </tbody>\n",
       "</table>\n",
       "</div>"
      ],
      "text/plain": [
       "         0      1      2      3      4      5      6      7      8      9   \\\n",
       "购买与否                                                                         \n",
       "0    0.7312 0.7983 0.8109 0.7896 0.8174 0.7905 0.8225 0.7956 0.8182 0.7507   \n",
       "1    0.2688 0.2017 0.1891 0.2104 0.1826 0.2095 0.1775 0.2044 0.1818 0.2493   \n",
       "\n",
       "         10  \n",
       "购买与否         \n",
       "0    0.7816  \n",
       "1    0.2184  "
      ]
     },
     "execution_count": 9,
     "metadata": {},
     "output_type": "execute_result"
    },
    {
     "name": "stdout",
     "output_type": "stream",
     "text": [
      "产品服务使用量 取值比重：\n"
     ]
    },
    {
     "data": {
      "text/html": [
       "<div>\n",
       "<style scoped>\n",
       "    .dataframe tbody tr th:only-of-type {\n",
       "        vertical-align: middle;\n",
       "    }\n",
       "\n",
       "    .dataframe tbody tr th {\n",
       "        vertical-align: top;\n",
       "    }\n",
       "\n",
       "    .dataframe thead th {\n",
       "        text-align: right;\n",
       "    }\n",
       "</style>\n",
       "<table border=\"1\" class=\"dataframe\">\n",
       "  <thead>\n",
       "    <tr style=\"text-align: right;\">\n",
       "      <th>产品服务使用量</th>\n",
       "      <th>1</th>\n",
       "      <th>2</th>\n",
       "      <th>3</th>\n",
       "      <th>4</th>\n",
       "    </tr>\n",
       "    <tr>\n",
       "      <th>购买与否</th>\n",
       "      <th></th>\n",
       "      <th></th>\n",
       "      <th></th>\n",
       "      <th></th>\n",
       "    </tr>\n",
       "  </thead>\n",
       "  <tbody>\n",
       "    <tr>\n",
       "      <td>0</td>\n",
       "      <td>0.7382</td>\n",
       "      <td>0.9033</td>\n",
       "      <td>0.1897</td>\n",
       "      <td>0.0000</td>\n",
       "    </tr>\n",
       "    <tr>\n",
       "      <td>1</td>\n",
       "      <td>0.2618</td>\n",
       "      <td>0.0967</td>\n",
       "      <td>0.8103</td>\n",
       "      <td>1.0000</td>\n",
       "    </tr>\n",
       "  </tbody>\n",
       "</table>\n",
       "</div>"
      ],
      "text/plain": [
       "产品服务使用量      1      2      3      4\n",
       "购买与否                               \n",
       "0       0.7382 0.9033 0.1897 0.0000\n",
       "1       0.2618 0.0967 0.8103 1.0000"
      ]
     },
     "execution_count": 9,
     "metadata": {},
     "output_type": "execute_result"
    },
    {
     "name": "stdout",
     "output_type": "stream",
     "text": [
      "是否使用信用卡付月费 取值比重：\n"
     ]
    },
    {
     "data": {
      "text/html": [
       "<div>\n",
       "<style scoped>\n",
       "    .dataframe tbody tr th:only-of-type {\n",
       "        vertical-align: middle;\n",
       "    }\n",
       "\n",
       "    .dataframe tbody tr th {\n",
       "        vertical-align: top;\n",
       "    }\n",
       "\n",
       "    .dataframe thead th {\n",
       "        text-align: right;\n",
       "    }\n",
       "</style>\n",
       "<table border=\"1\" class=\"dataframe\">\n",
       "  <thead>\n",
       "    <tr style=\"text-align: right;\">\n",
       "      <th></th>\n",
       "      <th>0</th>\n",
       "      <th>1</th>\n",
       "    </tr>\n",
       "    <tr>\n",
       "      <th>购买与否</th>\n",
       "      <th></th>\n",
       "      <th></th>\n",
       "    </tr>\n",
       "  </thead>\n",
       "  <tbody>\n",
       "    <tr>\n",
       "      <td>0</td>\n",
       "      <td>0.7821</td>\n",
       "      <td>0.7998</td>\n",
       "    </tr>\n",
       "    <tr>\n",
       "      <td>1</td>\n",
       "      <td>0.2179</td>\n",
       "      <td>0.2002</td>\n",
       "    </tr>\n",
       "  </tbody>\n",
       "</table>\n",
       "</div>"
      ],
      "text/plain": [
       "          0      1\n",
       "购买与否              \n",
       "0    0.7821 0.7998\n",
       "1    0.2179 0.2002"
      ]
     },
     "execution_count": 9,
     "metadata": {},
     "output_type": "execute_result"
    },
    {
     "name": "stdout",
     "output_type": "stream",
     "text": [
      "是否为活跃用户 取值比重：\n"
     ]
    },
    {
     "data": {
      "text/html": [
       "<div>\n",
       "<style scoped>\n",
       "    .dataframe tbody tr th:only-of-type {\n",
       "        vertical-align: middle;\n",
       "    }\n",
       "\n",
       "    .dataframe tbody tr th {\n",
       "        vertical-align: top;\n",
       "    }\n",
       "\n",
       "    .dataframe thead th {\n",
       "        text-align: right;\n",
       "    }\n",
       "</style>\n",
       "<table border=\"1\" class=\"dataframe\">\n",
       "  <thead>\n",
       "    <tr style=\"text-align: right;\">\n",
       "      <th></th>\n",
       "      <th>0</th>\n",
       "      <th>1</th>\n",
       "    </tr>\n",
       "    <tr>\n",
       "      <th>购买与否</th>\n",
       "      <th></th>\n",
       "      <th></th>\n",
       "    </tr>\n",
       "  </thead>\n",
       "  <tbody>\n",
       "    <tr>\n",
       "      <td>0</td>\n",
       "      <td>0.7408</td>\n",
       "      <td>0.8435</td>\n",
       "    </tr>\n",
       "    <tr>\n",
       "      <td>1</td>\n",
       "      <td>0.2592</td>\n",
       "      <td>0.1565</td>\n",
       "    </tr>\n",
       "  </tbody>\n",
       "</table>\n",
       "</div>"
      ],
      "text/plain": [
       "          0      1\n",
       "购买与否              \n",
       "0    0.7408 0.8435\n",
       "1    0.2592 0.1565"
      ]
     },
     "execution_count": 9,
     "metadata": {},
     "output_type": "execute_result"
    }
   ],
   "source": [
    "cates=['用户地区', '性别', '使用累计时间','产品服务使用量', '是否使用信用卡付月费','是否为活跃用户']\n",
    "for cate in cates:\n",
    "    print(cate,'取值比重：')\n",
    "    pd.crosstab(index=data['购买与否'],columns=data[cate])/ data[cate].value_counts()"
   ]
  },
  {
   "cell_type": "markdown",
   "metadata": {},
   "source": [
    "(2)数值特征"
   ]
  },
  {
   "cell_type": "code",
   "execution_count": 10,
   "metadata": {},
   "outputs": [
    {
     "data": {
      "text/plain": [
       "<matplotlib.axes._subplots.AxesSubplot at 0x1e971b872c8>"
      ]
     },
     "execution_count": 10,
     "metadata": {},
     "output_type": "execute_result"
    },
    {
     "data": {
      "text/plain": [
       "Text(0.5, 0, '产品使用分数 distribution by label')"
      ]
     },
     "execution_count": 10,
     "metadata": {},
     "output_type": "execute_result"
    },
    {
     "data": {
      "image/png": "[encoded data removed]",
      "text/plain": [
       "<Figure size 432x288 with 1 Axes>"
      ]
     },
     "metadata": {
      "needs_background": "light"
     },
     "output_type": "display_data"
    },
    {
     "data": {
      "text/plain": [
       "<matplotlib.axes._subplots.AxesSubplot at 0x1e971bcdfc8>"
      ]
     },
     "execution_count": 10,
     "metadata": {},
     "output_type": "execute_result"
    },
    {
     "data": {
      "text/plain": [
       "Text(0.5, 0, '年龄 distribution by label')"
      ]
     },
     "execution_count": 10,
     "metadata": {},
     "output_type": "execute_result"
    },
    {
     "data": {
      "image/png": "[encoded data removed]",
      "text/plain": [
       "<Figure size 432x288 with 1 Axes>"
      ]
     },
     "metadata": {
      "needs_background": "light"
     },
     "output_type": "display_data"
    },
    {
     "data": {
      "text/plain": [
       "<matplotlib.axes._subplots.AxesSubplot at 0x1e971a45b48>"
      ]
     },
     "execution_count": 10,
     "metadata": {},
     "output_type": "execute_result"
    },
    {
     "data": {
      "text/plain": [
       "Text(0.5, 0, '点数余额 distribution by label')"
      ]
     },
     "execution_count": 10,
     "metadata": {},
     "output_type": "execute_result"
    },
    {
     "data": {
      "image/png": "[encoded data removed]",
      "text/plain": [
       "<Figure size 432x288 with 1 Axes>"
      ]
     },
     "metadata": {
      "needs_background": "light"
     },
     "output_type": "display_data"
    },
    {
     "data": {
      "text/plain": [
       "<matplotlib.axes._subplots.AxesSubplot at 0x1e972c93d08>"
      ]
     },
     "execution_count": 10,
     "metadata": {},
     "output_type": "execute_result"
    },
    {
     "data": {
      "text/plain": [
       "Text(0.5, 0, '估计薪资 distribution by label')"
      ]
     },
     "execution_count": 10,
     "metadata": {},
     "output_type": "execute_result"
    },
    {
     "data": {
      "image/png": "[encoded data removed]",
      "text/plain": [
       "<Figure size 432x288 with 1 Axes>"
      ]
     },
     "metadata": {
      "needs_background": "light"
     },
     "output_type": "display_data"
    }
   ],
   "source": [
    "#(1)小提琴图\n",
    "cates=['产品使用分数', '年龄', '点数余额','估计薪资']\n",
    "for cate in cates:\n",
    "    sns.violinplot(y=cate,x='购买与否',data=data)\n",
    "    plt.xlabel(cate+' distribution by label')\n",
    "    plt.show()"
   ]
  },
  {
   "cell_type": "code",
   "execution_count": 11,
   "metadata": {},
   "outputs": [
    {
     "name": "stdout",
     "output_type": "stream",
     "text": [
      "bins= 3 的直方图：\n"
     ]
    },
    {
     "data": {
      "text/plain": [
       "(array([4647., 1267.,   86.]),\n",
       " array([18.        , 42.66666667, 67.33333333, 92.        ]),\n",
       " <a list of 3 Patch objects>)"
      ]
     },
     "execution_count": 11,
     "metadata": {},
     "output_type": "execute_result"
    },
    {
     "data": {
      "image/png": "[encoded data removed]",
      "text/plain": [
       "<Figure size 432x288 with 1 Axes>"
      ]
     },
     "metadata": {
      "needs_background": "light"
     },
     "output_type": "display_data"
    },
    {
     "name": "stdout",
     "output_type": "stream",
     "text": [
      "bins= 6 的直方图：\n"
     ]
    },
    {
     "data": {
      "text/plain": [
       "(array([ 843., 3804.,  981.,  286.,   77.,    9.]),\n",
       " array([18.        , 30.33333333, 42.66666667, 55.        , 67.33333333,\n",
       "        79.66666667, 92.        ]),\n",
       " <a list of 6 Patch objects>)"
      ]
     },
     "execution_count": 11,
     "metadata": {},
     "output_type": "execute_result"
    },
    {
     "data": {
      "image/png": "[encoded data removed]",
      "text/plain": [
       "<Figure size 432x288 with 1 Axes>"
      ]
     },
     "metadata": {
      "needs_background": "light"
     },
     "output_type": "display_data"
    },
    {
     "name": "stdout",
     "output_type": "stream",
     "text": [
      "bins= 9 的直方图：\n"
     ]
    },
    {
     "data": {
      "text/plain": [
       "(array([ 335., 1321., 2991.,  807.,  332.,  128.,   63.,   20.,    3.]),\n",
       " array([18.        , 26.22222222, 34.44444444, 42.66666667, 50.88888889,\n",
       "        59.11111111, 67.33333333, 75.55555556, 83.77777778, 92.        ]),\n",
       " <a list of 9 Patch objects>)"
      ]
     },
     "execution_count": 11,
     "metadata": {},
     "output_type": "execute_result"
    },
    {
     "data": {
      "image/png": "[encoded data removed]",
      "text/plain": [
       "<Figure size 432x288 with 1 Axes>"
      ]
     },
     "metadata": {
      "needs_background": "light"
     },
     "output_type": "display_data"
    },
    {
     "name": "stdout",
     "output_type": "stream",
     "text": [
      "bins= 12 的直方图：\n"
     ]
    },
    {
     "data": {
      "text/plain": [
       "(array([2.010e+02, 6.420e+02, 1.495e+03, 2.309e+03, 6.850e+02, 2.960e+02,\n",
       "        2.000e+02, 8.600e+01, 5.100e+01, 2.600e+01, 8.000e+00, 1.000e+00]),\n",
       " array([18.        , 24.16666667, 30.33333333, 36.5       , 42.66666667,\n",
       "        48.83333333, 55.        , 61.16666667, 67.33333333, 73.5       ,\n",
       "        79.66666667, 85.83333333, 92.        ]),\n",
       " <a list of 12 Patch objects>)"
      ]
     },
     "execution_count": 11,
     "metadata": {},
     "output_type": "execute_result"
    },
    {
     "data": {
      "image/png": "[encoded data removed]",
      "text/plain": [
       "<Figure size 432x288 with 1 Axes>"
      ]
     },
     "metadata": {
      "needs_background": "light"
     },
     "output_type": "display_data"
    },
    {
     "name": "stdout",
     "output_type": "stream",
     "text": [
      "bins= 15 的直方图：\n"
     ]
    },
    {
     "data": {
      "text/plain": [
       "(array([9.400e+01, 3.400e+02, 7.840e+02, 1.606e+03, 1.823e+03, 6.190e+02,\n",
       "        2.890e+02, 1.800e+02, 1.170e+02, 6.200e+01, 4.700e+01, 2.700e+01,\n",
       "        9.000e+00, 2.000e+00, 1.000e+00]),\n",
       " array([18.        , 22.93333333, 27.86666667, 32.8       , 37.73333333,\n",
       "        42.66666667, 47.6       , 52.53333333, 57.46666667, 62.4       ,\n",
       "        67.33333333, 72.26666667, 77.2       , 82.13333333, 87.06666667,\n",
       "        92.        ]),\n",
       " <a list of 15 Patch objects>)"
      ]
     },
     "execution_count": 11,
     "metadata": {},
     "output_type": "execute_result"
    },
    {
     "data": {
      "image/png": "[encoded data removed]",
      "text/plain": [
       "<Figure size 432x288 with 1 Axes>"
      ]
     },
     "metadata": {
      "needs_background": "light"
     },
     "output_type": "display_data"
    },
    {
     "name": "stdout",
     "output_type": "stream",
     "text": [
      "bins= 18 的直方图：\n"
     ]
    },
    {
     "data": {
      "text/plain": [
       "(array([9.400e+01, 2.410e+02, 5.080e+02, 8.130e+02, 1.584e+03, 1.407e+03,\n",
       "        5.340e+02, 2.730e+02, 1.740e+02, 1.580e+02, 7.800e+01, 5.000e+01,\n",
       "        3.600e+01, 2.700e+01, 1.400e+01, 6.000e+00, 2.000e+00, 1.000e+00]),\n",
       " array([18.        , 22.11111111, 26.22222222, 30.33333333, 34.44444444,\n",
       "        38.55555556, 42.66666667, 46.77777778, 50.88888889, 55.        ,\n",
       "        59.11111111, 63.22222222, 67.33333333, 71.44444444, 75.55555556,\n",
       "        79.66666667, 83.77777778, 87.88888889, 92.        ]),\n",
       " <a list of 18 Patch objects>)"
      ]
     },
     "execution_count": 11,
     "metadata": {},
     "output_type": "execute_result"
    },
    {
     "data": {
      "image/png": "[encoded data removed]",
      "text/plain": [
       "<Figure size 432x288 with 1 Axes>"
      ]
     },
     "metadata": {
      "needs_background": "light"
     },
     "output_type": "display_data"
    }
   ],
   "source": [
    "#年龄分箱探索\n",
    "\n",
    "#问题：分箱的要点是什么？\n",
    "\n",
    "pdata=data.copy()\n",
    "for i in range(3,20,3):\n",
    "    print('bins=',i,'的直方图：')\n",
    "    plt.hist(pdata['年龄'],bins=i)\n",
    "    plt.show()"
   ]
  },
  {
   "cell_type": "code",
   "execution_count": 12,
   "metadata": {},
   "outputs": [
    {
     "data": {
      "text/html": [
       "<div>\n",
       "<style scoped>\n",
       "    .dataframe tbody tr th:only-of-type {\n",
       "        vertical-align: middle;\n",
       "    }\n",
       "\n",
       "    .dataframe tbody tr th {\n",
       "        vertical-align: top;\n",
       "    }\n",
       "\n",
       "    .dataframe thead th {\n",
       "        text-align: right;\n",
       "    }\n",
       "</style>\n",
       "<table border=\"1\" class=\"dataframe\">\n",
       "  <thead>\n",
       "    <tr style=\"text-align: right;\">\n",
       "      <th></th>\n",
       "      <th>(17.926, 32.8]</th>\n",
       "      <th>(32.8, 47.6]</th>\n",
       "      <th>(47.6, 62.4]</th>\n",
       "      <th>(62.4, 77.2]</th>\n",
       "      <th>(77.2, 92.0]</th>\n",
       "    </tr>\n",
       "    <tr>\n",
       "      <th>购买与否</th>\n",
       "      <th></th>\n",
       "      <th></th>\n",
       "      <th></th>\n",
       "      <th></th>\n",
       "      <th></th>\n",
       "    </tr>\n",
       "  </thead>\n",
       "  <tbody>\n",
       "    <tr>\n",
       "      <td>0</td>\n",
       "      <td>0.9187</td>\n",
       "      <td>0.8083</td>\n",
       "      <td>0.4505</td>\n",
       "      <td>0.8162</td>\n",
       "      <td>0.9167</td>\n",
       "    </tr>\n",
       "    <tr>\n",
       "      <td>1</td>\n",
       "      <td>0.0813</td>\n",
       "      <td>0.1917</td>\n",
       "      <td>0.5495</td>\n",
       "      <td>0.1838</td>\n",
       "      <td>0.0833</td>\n",
       "    </tr>\n",
       "  </tbody>\n",
       "</table>\n",
       "</div>"
      ],
      "text/plain": [
       "      (17.926, 32.8]  (32.8, 47.6]  (47.6, 62.4]  (62.4, 77.2]  (77.2, 92.0]\n",
       "购买与否                                                                        \n",
       "0             0.9187        0.8083        0.4505        0.8162        0.9167\n",
       "1             0.0813        0.1917        0.5495        0.1838        0.0833"
      ]
     },
     "execution_count": 12,
     "metadata": {},
     "output_type": "execute_result"
    }
   ],
   "source": [
    "#年龄分箱探索\n",
    "\n",
    "pdata=data.copy()\n",
    "pdata['年龄段']=pd.cut(pdata['年龄'],bins=5)\n",
    "pd.crosstab(index=pdata['购买与否'],columns=pdata['年龄段'])/ pdata['年龄段'].value_counts()"
   ]
  },
  {
   "cell_type": "code",
   "execution_count": 13,
   "metadata": {},
   "outputs": [
    {
     "data": {
      "text/html": [
       "<div>\n",
       "<style scoped>\n",
       "    .dataframe tbody tr th:only-of-type {\n",
       "        vertical-align: middle;\n",
       "    }\n",
       "\n",
       "    .dataframe tbody tr th {\n",
       "        vertical-align: top;\n",
       "    }\n",
       "\n",
       "    .dataframe thead th {\n",
       "        text-align: right;\n",
       "    }\n",
       "</style>\n",
       "<table border=\"1\" class=\"dataframe\">\n",
       "  <thead>\n",
       "    <tr style=\"text-align: right;\">\n",
       "      <th></th>\n",
       "      <th>(17.999, 32.346]</th>\n",
       "      <th>(32.346, 36.814]</th>\n",
       "      <th>(36.814, 39.377]</th>\n",
       "      <th>(39.377, 43.093]</th>\n",
       "      <th>(43.093, 92.0]</th>\n",
       "    </tr>\n",
       "    <tr>\n",
       "      <th>购买与否</th>\n",
       "      <th></th>\n",
       "      <th></th>\n",
       "      <th></th>\n",
       "      <th></th>\n",
       "      <th></th>\n",
       "    </tr>\n",
       "  </thead>\n",
       "  <tbody>\n",
       "    <tr>\n",
       "      <td>0</td>\n",
       "      <td>0.9175</td>\n",
       "      <td>0.8858</td>\n",
       "      <td>0.8408</td>\n",
       "      <td>0.7625</td>\n",
       "      <td>0.5742</td>\n",
       "    </tr>\n",
       "    <tr>\n",
       "      <td>1</td>\n",
       "      <td>0.0825</td>\n",
       "      <td>0.1142</td>\n",
       "      <td>0.1592</td>\n",
       "      <td>0.2375</td>\n",
       "      <td>0.4258</td>\n",
       "    </tr>\n",
       "  </tbody>\n",
       "</table>\n",
       "</div>"
      ],
      "text/plain": [
       "      (17.999, 32.346]  (32.346, 36.814]  (36.814, 39.377]  (39.377, 43.093]  \\\n",
       "购买与否                                                                           \n",
       "0               0.9175            0.8858            0.8408            0.7625   \n",
       "1               0.0825            0.1142            0.1592            0.2375   \n",
       "\n",
       "      (43.093, 92.0]  \n",
       "购买与否                  \n",
       "0             0.5742  \n",
       "1             0.4258  "
      ]
     },
     "execution_count": 13,
     "metadata": {},
     "output_type": "execute_result"
    }
   ],
   "source": [
    "#年龄分箱探索\n",
    "\n",
    "pdata=data.copy()\n",
    "pdata['年龄段']=pd.qcut(pdata['年龄'],q=5)\n",
    "pd.crosstab(index=pdata['购买与否'],columns=pdata['年龄段'])/ pdata['年龄段'].value_counts()\n",
    "\n",
    "#结论：显然不合理。"
   ]
  },
  {
   "cell_type": "code",
   "execution_count": null,
   "metadata": {},
   "outputs": [],
   "source": []
  },
  {
   "cell_type": "markdown",
   "metadata": {},
   "source": [
    "### （三）特征间关系"
   ]
  },
  {
   "cell_type": "code",
   "execution_count": 14,
   "metadata": {},
   "outputs": [
    {
     "data": {
      "text/plain": [
       "<matplotlib.axes._subplots.AxesSubplot at 0x1e9716751c8>"
      ]
     },
     "execution_count": 14,
     "metadata": {},
     "output_type": "execute_result"
    },
    {
     "data": {
      "image/png": "[encoded data removed]",
      "text/plain": [
       "<Figure size 432x288 with 2 Axes>"
      ]
     },
     "metadata": {
      "needs_background": "light"
     },
     "output_type": "display_data"
    }
   ],
   "source": [
    "cates=['产品使用分数', '年龄', '点数余额','估计薪资']\n",
    "sns.heatmap(data[cates].corr())"
   ]
  },
  {
   "cell_type": "markdown",
   "metadata": {},
   "source": [
    "### （四）统计检验"
   ]
  },
  {
   "cell_type": "markdown",
   "metadata": {},
   "source": [
    "（1）类别特征"
   ]
  },
  {
   "cell_type": "code",
   "execution_count": 16,
   "metadata": {},
   "outputs": [
    {
     "name": "stdout",
     "output_type": "stream",
     "text": [
      "用户地区与标签的卡方检验：\n"
     ]
    },
    {
     "data": {
      "text/plain": [
       "(133.56776025849817,\n",
       " 9.911271655785942e-30,\n",
       " 2,\n",
       " array([[2761.106, 1165.588,  850.306],\n",
       "        [ 706.894,  298.412,  217.694]]))"
      ]
     },
     "execution_count": 16,
     "metadata": {},
     "output_type": "execute_result"
    },
    {
     "name": "stdout",
     "output_type": "stream",
     "text": [
      "性别与标签的卡方检验：\n"
     ]
    },
    {
     "data": {
      "text/plain": [
       "(83.52863795546088, 6.279959978143841e-20, 1, array([[3004.733, 1772.267],\n",
       "        [ 769.267,  453.733]]))"
      ]
     },
     "execution_count": 16,
     "metadata": {},
     "output_type": "execute_result"
    },
    {
     "name": "stdout",
     "output_type": "stream",
     "text": [
      "使用累计时间与标签的卡方检验：\n"
     ]
    },
    {
     "data": {
      "text/plain": [
       "(21.241171287407838,\n",
       " 0.01947323583210931,\n",
       " 10,\n",
       " array([[148.087     , 477.7       , 542.98566667, 503.17733333,\n",
       "         558.11283333, 471.33066667, 439.484     , 432.3185    ,\n",
       "         490.43866667, 549.355     , 164.01033333],\n",
       "        [ 37.913     , 122.3       , 139.01433333, 128.82266667,\n",
       "         142.88716667, 120.66933333, 112.516     , 110.6815    ,\n",
       "         125.56133333, 140.645     ,  41.98966667]]))"
      ]
     },
     "execution_count": 16,
     "metadata": {},
     "output_type": "execute_result"
    },
    {
     "name": "stdout",
     "output_type": "stream",
     "text": [
      "产品服务使用量与标签的卡方检验：\n"
     ]
    },
    {
     "data": {
      "text/plain": [
       "(603.8188819115722,\n",
       " 1.497982130690491e-130,\n",
       " 3,\n",
       " array([[2600.28033333, 2066.0525    ,   92.35533333,   18.31183333],\n",
       "        [ 665.71966667,  528.9475    ,   23.64466667,    4.68816667]]))"
      ]
     },
     "execution_count": 16,
     "metadata": {},
     "output_type": "execute_result"
    },
    {
     "name": "stdout",
     "output_type": "stream",
     "text": [
      "是否使用信用卡付月费与标签的卡方检验：\n"
     ]
    },
    {
     "data": {
      "text/plain": [
       "(1.8008087482217812, 0.17961475190670712, 1, array([[ 986.4505, 3790.5495],\n",
       "        [ 252.5495,  970.4505]]))"
      ]
     },
     "execution_count": 16,
     "metadata": {},
     "output_type": "execute_result"
    },
    {
     "name": "stdout",
     "output_type": "stream",
     "text": [
      "是否为活跃用户与标签的卡方检验：\n"
     ]
    },
    {
     "data": {
      "text/plain": [
       "(96.36978072581408, 9.531086633990682e-23, 1, array([[2202.197, 2574.803],\n",
       "        [ 563.803,  659.197]]))"
      ]
     },
     "execution_count": 16,
     "metadata": {},
     "output_type": "execute_result"
    },
    {
     "name": "stdout",
     "output_type": "stream",
     "text": [
      "卡方检验的p值：\n"
     ]
    },
    {
     "data": {
      "text/plain": [
       "用户地区         0.0000\n",
       "性别           0.0000\n",
       "使用累计时间       0.0195\n",
       "产品服务使用量      0.0000\n",
       "是否使用信用卡付月费   0.1796\n",
       "是否为活跃用户      0.0000\n",
       "dtype: float64"
      ]
     },
     "execution_count": 16,
     "metadata": {},
     "output_type": "execute_result"
    }
   ],
   "source": [
    "p_list=[]\n",
    "cates=['用户地区', '性别', '使用累计时间','产品服务使用量', '是否使用信用卡付月费','是否为活跃用户']\n",
    "for cate in cates:\n",
    "    print(cate+'与标签的卡方检验：')\n",
    "    obs=pd.crosstab( index=data['购买与否'],columns=data[cate] )\n",
    "    chi2_contingency(obs)\n",
    "    chi2, p, dof, expect=chi2_contingency(obs)\n",
    "    p_list.append(p)\n",
    "print('卡方检验的p值：')\n",
    "pd.Series(data=np.array(p_list),index=cates)\n",
    "\n",
    "#结论：特征“用户地区”“性别”“产品服务使用量”“是否为活跃用户”显著地影响标签取值；而“使用累计时间”“是否使用信用卡付月费”则不显著。"
   ]
  },
  {
   "cell_type": "markdown",
   "metadata": {},
   "source": [
    "(2)数值特征"
   ]
  },
  {
   "cell_type": "code",
   "execution_count": 17,
   "metadata": {},
   "outputs": [
    {
     "name": "stdout",
     "output_type": "stream",
     "text": [
      "产品使用分数 Anova检验的结果：\n"
     ]
    },
    {
     "data": {
      "text/plain": [
       "F_onewayResult(statistic=10.256994832204253, pvalue=0.0013687882578583535)"
      ]
     },
     "execution_count": 17,
     "metadata": {},
     "output_type": "execute_result"
    },
    {
     "name": "stdout",
     "output_type": "stream",
     "text": [
      "年龄 Anova检验的结果：\n"
     ]
    },
    {
     "data": {
      "text/plain": [
       "F_onewayResult(statistic=394.16026202731143, pvalue=5.258625855659574e-85)"
      ]
     },
     "execution_count": 17,
     "metadata": {},
     "output_type": "execute_result"
    },
    {
     "name": "stdout",
     "output_type": "stream",
     "text": [
      "点数余额 Anova检验的结果：\n"
     ]
    },
    {
     "data": {
      "text/plain": [
       "F_onewayResult(statistic=95.17902380067802, pvalue=2.547002629786594e-22)"
      ]
     },
     "execution_count": 17,
     "metadata": {},
     "output_type": "execute_result"
    },
    {
     "name": "stdout",
     "output_type": "stream",
     "text": [
      "估计薪资 Anova检验的结果：\n"
     ]
    },
    {
     "data": {
      "text/plain": [
       "F_onewayResult(statistic=0.5060338893825058, pvalue=0.47688847689970726)"
      ]
     },
     "execution_count": 17,
     "metadata": {},
     "output_type": "execute_result"
    }
   ],
   "source": [
    "#（2）Anova检验\n",
    "\n",
    "cates=['产品使用分数', '年龄', '点数余额','估计薪资']\n",
    "for cate in cates:\n",
    "    print(cate,'Anova检验的结果：')\n",
    "    f_oneway(data[cate][data['购买与否']==1],data[cate][data['购买与否']==0])\n",
    "\n",
    "#结论：特征“年龄”“点数余额”“产品使用分数”显著地影响标签取值"
   ]
  },
  {
   "cell_type": "code",
   "execution_count": 18,
   "metadata": {},
   "outputs": [
    {
     "name": "stdout",
     "output_type": "stream",
     "text": [
      "产品使用分数 t检验的结果：\n"
     ]
    },
    {
     "data": {
      "text/plain": [
       "Ttest_indResult(statistic=-3.095250394731503, pvalue=0.0019964379799860864)"
      ]
     },
     "execution_count": 18,
     "metadata": {},
     "output_type": "execute_result"
    },
    {
     "name": "stdout",
     "output_type": "stream",
     "text": [
      "年龄 t检验的结果：\n"
     ]
    },
    {
     "data": {
      "text/plain": [
       "Ttest_indResult(statistic=19.671853604508495, pvalue=1.7998827327628333e-78)"
      ]
     },
     "execution_count": 18,
     "metadata": {},
     "output_type": "execute_result"
    },
    {
     "name": "stdout",
     "output_type": "stream",
     "text": [
      "点数余额 t检验的结果：\n"
     ]
    },
    {
     "data": {
      "text/plain": [
       "Ttest_indResult(statistic=10.36994279605487, pvalue=1.3526345241085846e-24)"
      ]
     },
     "execution_count": 18,
     "metadata": {},
     "output_type": "execute_result"
    },
    {
     "name": "stdout",
     "output_type": "stream",
     "text": [
      "估计薪资 t检验的结果：\n"
     ]
    },
    {
     "data": {
      "text/plain": [
       "Ttest_indResult(statistic=0.7076842259511241, pvalue=0.4792289222257132)"
      ]
     },
     "execution_count": 18,
     "metadata": {},
     "output_type": "execute_result"
    }
   ],
   "source": [
    "#（3）t检验\n",
    "cates=['产品使用分数', '年龄', '点数余额','估计薪资']\n",
    "for cate in cates:\n",
    "    print(cate,'t检验的结果：')\n",
    "    ttest_ind(data[cate][data['购买与否']==1],data[cate][data['购买与否']==0],equal_var=False,nan_policy='omit')# 'omit'忽略nan值执行计算"
   ]
  },
  {
   "cell_type": "code",
   "execution_count": null,
   "metadata": {},
   "outputs": [],
   "source": []
  },
  {
   "cell_type": "code",
   "execution_count": null,
   "metadata": {},
   "outputs": [],
   "source": []
  }
 ],
 "metadata": {
  "kernelspec": {
   "display_name": "Python 3",
   "language": "python",
   "name": "python3"
  },
  "language_info": {
   "codemirror_mode": {
    "name": "ipython",
    "version": 3
   },
   "file_extension": ".py",
   "mimetype": "text/x-python",
   "name": "python",
   "nbconvert_exporter": "python",
   "pygments_lexer": "ipython3",
   "version": "3.7.4"
  }
 },
 "nbformat": 4,
 "nbformat_minor": 2
}

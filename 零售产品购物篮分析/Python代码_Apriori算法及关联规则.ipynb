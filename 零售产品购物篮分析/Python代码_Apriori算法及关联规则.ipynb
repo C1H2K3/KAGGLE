{
 "cells": [
  {
   "cell_type": "code",
   "execution_count": 1,
   "metadata": {},
   "outputs": [],
   "source": [
    "import numpy as np\n",
    "import pandas as pd\n",
    "\n",
    "from IPython.core.interactiveshell import InteractiveShell\n",
    "InteractiveShell.ast_node_interactivity = \"all\""
   ]
  },
  {
   "cell_type": "code",
   "execution_count": 2,
   "metadata": {},
   "outputs": [],
   "source": [
    "dataset = [['苹果','香蕉','橘子'],['榴莲','香蕉','哈密瓜'],['苹果','香蕉','榴莲','哈密瓜'],['橘子','榴莲']]"
   ]
  },
  {
   "cell_type": "markdown",
   "metadata": {},
   "source": [
    "## 第一步：产生频繁项集"
   ]
  },
  {
   "cell_type": "code",
   "execution_count": 7,
   "metadata": {},
   "outputs": [],
   "source": [
    "#辅助函数1\n",
    "\n",
    "def create_c1(dataset):\n",
    "    \"\"\"\n",
    "    函数功能：⽣成第⼀个候选项集c1，每个项集只有1个item\n",
    "    参数说明：\n",
    "     dataset：原始数据集\n",
    "    返回：\n",
    "     frozenset形式的候选集合c1\n",
    "    \"\"\"\n",
    "    c1=[]\n",
    "    for transaction in dataset:\n",
    "        for item in transaction:\n",
    "            if not {item} in c1:\n",
    "                c1.append({item})\n",
    "    c1.sort()\n",
    "    return list(map(frozenset,c1))"
   ]
  },
  {
   "cell_type": "code",
   "execution_count": 8,
   "metadata": {},
   "outputs": [
    {
     "data": {
      "text/plain": [
       "[frozenset({'苹果'}),\n",
       " frozenset({'香蕉'}),\n",
       " frozenset({'橘子'}),\n",
       " frozenset({'榴莲'}),\n",
       " frozenset({'哈密瓜'})]"
      ]
     },
     "execution_count": 8,
     "metadata": {},
     "output_type": "execute_result"
    }
   ],
   "source": [
    "create_c1(dataset)"
   ]
  },
  {
   "cell_type": "code",
   "execution_count": 9,
   "metadata": {},
   "outputs": [
    {
     "data": {
      "text/plain": [
       "frozenset"
      ]
     },
     "execution_count": 9,
     "metadata": {},
     "output_type": "execute_result"
    }
   ],
   "source": [
    "type(create_c1(dataset)[0])"
   ]
  },
  {
   "cell_type": "code",
   "execution_count": 7,
   "metadata": {},
   "outputs": [
    {
     "data": {
      "text/plain": [
       "frozenset({'果', '苹'})"
      ]
     },
     "execution_count": 7,
     "metadata": {},
     "output_type": "execute_result"
    }
   ],
   "source": [
    "frozenset('苹果')"
   ]
  },
  {
   "cell_type": "code",
   "execution_count": 11,
   "metadata": {},
   "outputs": [],
   "source": [
    "#辅助函数2\n",
    "def create_freq_transaction(dataset,ck,min_support=0.5):\n",
    "    \"\"\"\n",
    "    函数功能：⽣成满⾜最⼩⽀持度的频繁项集\n",
    "    参数说明:\n",
    "     dataset:原始数据集\n",
    "     ck:候选项集\n",
    "     min_support:最⼩⽀持度\n",
    "    返回：\n",
    "    support_data：候选项集ck的⽀持度字典(key:候选项， value:⽀持度)\n",
    "    freq_transaction：给定min_support下的ck中的频繁项集\n",
    "    \n",
    "    注意：如果ck中得不到频繁项集，则返回的是空list\n",
    "    \"\"\"\n",
    "    sscnt={} #存放项集及频次\n",
    "    for transaction in dataset:\n",
    "        for can in ck: #候选项集\n",
    "            if can.issubset(transaction):\n",
    "                sscnt[can]=sscnt.get(can,0)+1 #频次+1\n",
    "    \n",
    "    num_transactions=float(len(dataset)) #事务总量\n",
    "    freq_transaction=[] #频繁项集,如果ck中得不到频繁项集，则返回的是空list\n",
    "    \n",
    "    support_data={} #存放项集及支持度\n",
    "    for key in sscnt:\n",
    "        support=sscnt[key]/num_transactions\n",
    "        support_data[key]=support\n",
    "        if support>=min_support:\n",
    "            freq_transaction.append(key)\n",
    "    return support_data,freq_transaction"
   ]
  },
  {
   "cell_type": "code",
   "execution_count": 13,
   "metadata": {},
   "outputs": [
    {
     "data": {
      "text/plain": [
       "[frozenset({'香蕉'}), frozenset({'榴莲'})]"
      ]
     },
     "execution_count": 13,
     "metadata": {},
     "output_type": "execute_result"
    },
    {
     "data": {
      "text/plain": [
       "{frozenset({'苹果'}): 0.5,\n",
       " frozenset({'香蕉'}): 0.75,\n",
       " frozenset({'橘子'}): 0.5,\n",
       " frozenset({'榴莲'}): 0.75,\n",
       " frozenset({'哈密瓜'}): 0.5}"
      ]
     },
     "execution_count": 13,
     "metadata": {},
     "output_type": "execute_result"
    }
   ],
   "source": [
    "c1=create_c1(dataset)\n",
    "support_data,freq_transaction=create_freq_transaction(dataset,c1,min_support=0.7)\n",
    "freq_transaction\n",
    "support_data"
   ]
  },
  {
   "cell_type": "code",
   "execution_count": 15,
   "metadata": {},
   "outputs": [],
   "source": [
    "#辅助函数3\n",
    "\n",
    "def create_ck(freq_k_transaction):\n",
    "    \"\"\"\n",
    "    函数功能：由频繁k项集⽣成k+1候选项集。\n",
    "    参数说明：\n",
    "    freq_k_transaction：频繁k项集\n",
    "        这里用频繁K项集，而非k项集，体现了先验原理。即如果⼀个项集是频繁的，则它的所有⼦集⼀定也是频繁的。\n",
    "        反之，如果⼀个项集是⾮频繁项集， 那么它的所有超集也是⾮频繁的。\n",
    "    返回：\n",
    "     ck：k+1候选项集。\n",
    "         这里不是返回频繁k+1项集，暂时没有用支持度阈值对结果过滤。\n",
    "    \n",
    "    #特别重要，体现算法原理，节约计算资源。有3个关键点。\n",
    "        1、不是从k候选项集生成k+1候选项集。目标是频繁项集，非频繁项集能不计算的就不计算，节约计算资源。\n",
    "        2、频繁k项集两两组合。为何不是k频繁项集和1-频繁项集两两组合，是为了节约计算资源。先验原理告诉我们，这是可行的。\n",
    "        3、只保留k+1候选项集，逐步计算。\n",
    "    \"\"\"\n",
    "    ck=[] #k+1候选项集\n",
    "    k=len(freq_k_transaction)\n",
    "    for i in range(k):\n",
    "        for j in range(i+1,k):\n",
    "            t1=freq_k_transaction[i]\n",
    "            t2=freq_k_transaction[j]\n",
    "            t=t1|t2\n",
    "            if (not t in ck) and (len(t)==len(freq_k_transaction[0])+1):\n",
    "                ck.append(t)\n",
    "    return ck"
   ]
  },
  {
   "cell_type": "code",
   "execution_count": 16,
   "metadata": {},
   "outputs": [
    {
     "data": {
      "text/plain": [
       "[frozenset({'榴莲', '香蕉'})]"
      ]
     },
     "execution_count": 16,
     "metadata": {},
     "output_type": "execute_result"
    }
   ],
   "source": [
    "c2=create_ck(freq_transaction)\n",
    "c2"
   ]
  },
  {
   "cell_type": "code",
   "execution_count": 17,
   "metadata": {},
   "outputs": [
    {
     "data": {
      "text/plain": [
       "[frozenset({'榴莲', '香蕉'})]"
      ]
     },
     "execution_count": 17,
     "metadata": {},
     "output_type": "execute_result"
    },
    {
     "data": {
      "text/plain": [
       "{frozenset({'榴莲', '香蕉'}): 0.5}"
      ]
     },
     "execution_count": 17,
     "metadata": {},
     "output_type": "execute_result"
    }
   ],
   "source": [
    "support_data,freq_transaction=create_freq_transaction(dataset,c2,min_support=0.5)\n",
    "freq_transaction\n",
    "support_data"
   ]
  },
  {
   "cell_type": "code",
   "execution_count": 18,
   "metadata": {},
   "outputs": [
    {
     "data": {
      "text/plain": [
       "[]"
      ]
     },
     "execution_count": 18,
     "metadata": {},
     "output_type": "execute_result"
    }
   ],
   "source": [
    "c3=create_ck(freq_transaction)\n",
    "c3"
   ]
  },
  {
   "cell_type": "code",
   "execution_count": 19,
   "metadata": {},
   "outputs": [],
   "source": [
    "# 主函数\n",
    "\n",
    "def apriori(dataset,min_support=0.5):\n",
    "    '''\n",
    "    函数说明：生成大于支持度阈值下的频繁项集，以及所有候选项集及其支持度\n",
    "    参数说明：\n",
    "    dataset:原始数据事务集\n",
    "    min_support:最⼩⽀持度\n",
    "    返回：\n",
    "    support_data：所有候选项集ck的⽀持度字典(key:候选项， value:⽀持度)\n",
    "    all_freq_transaction：给定min_support下的所有频繁项集\n",
    "    '''\n",
    "    c1=create_c1(dataset)\n",
    "    support_data,freq_transaction_1=create_freq_transaction(dataset,c1,min_support=min_support)\n",
    "    all_freq_transaction=[freq_transaction_1]\n",
    "    \n",
    "    k=2 #初始化，辅助参数，没有实际意义\n",
    "    while len(all_freq_transaction[-1])>0 :\n",
    "        ck=create_ck(all_freq_transaction[-1])\n",
    "        support_data_k,freq_transaction_k=create_freq_transaction(dataset,ck,min_support=min_support)\n",
    "        support_data.update(support_data_k) #更新字典，批量增加\n",
    "        all_freq_transaction.append(freq_transaction_k)\n",
    "        k=k+1\n",
    "    return support_data,all_freq_transaction"
   ]
  },
  {
   "cell_type": "code",
   "execution_count": 23,
   "metadata": {},
   "outputs": [
    {
     "data": {
      "text/plain": [
       "({frozenset({'苹果'}): 0.5,\n",
       "  frozenset({'香蕉'}): 0.75,\n",
       "  frozenset({'橘子'}): 0.5,\n",
       "  frozenset({'榴莲'}): 0.75,\n",
       "  frozenset({'哈密瓜'}): 0.5,\n",
       "  frozenset({'榴莲', '香蕉'}): 0.5},\n",
       " [[frozenset({'香蕉'}), frozenset({'榴莲'})], []])"
      ]
     },
     "execution_count": 23,
     "metadata": {},
     "output_type": "execute_result"
    }
   ],
   "source": [
    "dataset = [['苹果','香蕉','橘子'],['榴莲','香蕉','哈密瓜'],['苹果','香蕉','榴莲','哈密瓜'],['橘子','榴莲']]\n",
    "support_data,all_freq_transaction=apriori(dataset, min_support=0.7)\n",
    "apriori(dataset, min_support=0.7)\n",
    "#注：返回的最后一行是空集合"
   ]
  },
  {
   "cell_type": "markdown",
   "metadata": {},
   "source": [
    "## 第二步：产生关联规则"
   ]
  },
  {
   "cell_type": "code",
   "execution_count": 26,
   "metadata": {},
   "outputs": [],
   "source": [
    "#辅助函数1\n",
    "\n",
    "def create_subset(fromlist,tolist):\n",
    "    '''\n",
    "    函数功能：已知列表fromlist的所有子集，结果保存到tolist，tolist中的元素格式是冻集合。\n",
    "    '''\n",
    "    for i in range(len(fromlist)):\n",
    "        t=[fromlist[i]]\n",
    "        tt=frozenset(set(fromlist)-set(t))\n",
    "        if not tt in tolist:\n",
    "            tolist.append(tt)\n",
    "            \n",
    "            tt=list(t)\n",
    "            if len(tt)>1:\n",
    "                create_subset(tt,tolist)    \n",
    "    return None"
   ]
  },
  {
   "cell_type": "code",
   "execution_count": 34,
   "metadata": {
    "collapsed": true
   },
   "outputs": [
    {
     "data": {
      "text/plain": [
       "[frozenset({'b', 'c', 'd'}),\n",
       " frozenset({'a', 'c', 'd'}),\n",
       " frozenset({'a', 'b', 'd'}),\n",
       " frozenset({'a', 'b', 'c'})]"
      ]
     },
     "execution_count": 34,
     "metadata": {},
     "output_type": "execute_result"
    }
   ],
   "source": [
    "fromlist=['a','b','c','d']\n",
    "tolist=[]\n",
    "create_subset(fromlist,tolist)\n",
    "tolist"
   ]
  },
  {
   "cell_type": "code",
   "execution_count": 27,
   "metadata": {},
   "outputs": [],
   "source": [
    "#辅助函数2\n",
    "def cal_conf(fre_set,h,support_data,rulelist,min_conf):\n",
    "    '''\n",
    "    函数功能：给定一个频繁项集，得到它子集中所有可能的关联规则，满足置信度阈值的强关联规则保存在rulelist中。\n",
    "    参数说明：h是fre_set的所有子集集合。\n",
    "    提升度需大于1\n",
    "    \n",
    "    \n",
    "    将辅助函数之前，先看下置信度公式\n",
    "    '''\n",
    "    for after in h:\n",
    "        conf=support_data[fre_set]/support_data[fre_set-after] #计算以after为后项以fre_set-after为前项的置信度\n",
    "        lift=support_data[fre_set]/(support_data[fre_set-after] * support_data[after])\n",
    "        if conf>= min_conf and lift>1:\n",
    "            print(fre_set-after,'-->',after,'\\n',\n",
    "                  'before support:',round(support_data[fre_set-after],3),',',\n",
    "                  'after support:',round(support_data[after],3),',',\n",
    "                  'together support:',round(support_data[fre_set],3),',',\n",
    "                  'conf:',round(conf,3),',',\n",
    "                  'lift:',round(lift,3))\n",
    "            rulelist.append((fre_set-after,after,round(conf,3))) #以元组形式保存\n",
    "    return None"
   ]
  },
  {
   "cell_type": "code",
   "execution_count": 28,
   "metadata": {},
   "outputs": [],
   "source": [
    "#主函数\n",
    "def create_rules(support_data,all_freq_transaction,min_conf=0.8):\n",
    "    '''\n",
    "    函数功能：生成给定频繁项集下的所有关联规则项。\n",
    "    '''\n",
    "    all_rulelist=[]\n",
    "    for i in range(1,len(all_freq_transaction)):\n",
    "        for fre_set in all_freq_transaction[i]:\n",
    "            #求k项集的所有非空子集，1项集，2项集，直到k-1项集，用h表示，为list类型，元素为frozenset类型\n",
    "            fre_list=list(fre_set)\n",
    "            all_subset=[]\n",
    "            create_subset(fre_list,all_subset)\n",
    "            cal_conf(fre_set,all_subset,support_data,all_rulelist,min_conf)\n",
    "    return all_rulelist"
   ]
  },
  {
   "cell_type": "markdown",
   "metadata": {},
   "source": [
    "## 应用"
   ]
  },
  {
   "cell_type": "code",
   "execution_count": 32,
   "metadata": {},
   "outputs": [
    {
     "name": "stdout",
     "output_type": "stream",
     "text": [
      "frozenset({'苹果'}) --> frozenset({'香蕉'}) \n",
      " before support: 0.5 , after support: 0.75 , together support: 0.5 , conf: 1.0 , lift: 1.333\n",
      "frozenset({'哈密瓜'}) --> frozenset({'香蕉'}) \n",
      " before support: 0.5 , after support: 0.75 , together support: 0.5 , conf: 1.0 , lift: 1.333\n",
      "frozenset({'哈密瓜'}) --> frozenset({'榴莲'}) \n",
      " before support: 0.5 , after support: 0.75 , together support: 0.5 , conf: 1.0 , lift: 1.333\n",
      "frozenset({'哈密瓜'}) --> frozenset({'榴莲', '香蕉'}) \n",
      " before support: 0.5 , after support: 0.5 , together support: 0.5 , conf: 1.0 , lift: 2.0\n"
     ]
    },
    {
     "data": {
      "text/plain": [
       "[(frozenset({'苹果'}), frozenset({'香蕉'}), 1.0),\n",
       " (frozenset({'哈密瓜'}), frozenset({'香蕉'}), 1.0),\n",
       " (frozenset({'哈密瓜'}), frozenset({'榴莲'}), 1.0),\n",
       " (frozenset({'哈密瓜'}), frozenset({'榴莲', '香蕉'}), 1.0)]"
      ]
     },
     "execution_count": 32,
     "metadata": {},
     "output_type": "execute_result"
    }
   ],
   "source": [
    "dataset = [['苹果','香蕉','橘子'],['榴莲','香蕉','哈密瓜'],['苹果','香蕉','榴莲','哈密瓜'],['橘子','榴莲']]\n",
    "support_data,all_freq_transaction=apriori(dataset, min_support=0.5)\n",
    "create_rules(support_data,all_freq_transaction,min_conf=1)"
   ]
  },
  {
   "cell_type": "code",
   "execution_count": 45,
   "metadata": {},
   "outputs": [
    {
     "data": {
      "text/plain": [
       "[['bread', 'milk'],\n",
       " ['bread', 'diaper', 'beer', 'egg'],\n",
       " ['milk', 'diaper', 'beer', 'coke'],\n",
       " ['bread', 'milk', 'diaper', 'beer'],\n",
       " ['bread', 'milk', 'diaper', 'coke']]"
      ]
     },
     "execution_count": 45,
     "metadata": {},
     "output_type": "execute_result"
    },
    {
     "data": {
      "text/plain": [
       "{frozenset({'bread'}): 0.8,\n",
       " frozenset({'milk'}): 0.8,\n",
       " frozenset({'diaper'}): 0.8,\n",
       " frozenset({'beer'}): 0.6,\n",
       " frozenset({'egg'}): 0.2,\n",
       " frozenset({'coke'}): 0.4,\n",
       " frozenset({'bread', 'milk'}): 0.6,\n",
       " frozenset({'bread', 'diaper'}): 0.6,\n",
       " frozenset({'beer', 'bread'}): 0.4,\n",
       " frozenset({'beer', 'diaper'}): 0.6,\n",
       " frozenset({'diaper', 'milk'}): 0.6,\n",
       " frozenset({'beer', 'milk'}): 0.4,\n",
       " frozenset({'beer', 'bread', 'diaper'}): 0.4,\n",
       " frozenset({'beer', 'diaper', 'milk'}): 0.4,\n",
       " frozenset({'bread', 'diaper', 'milk'}): 0.4}"
      ]
     },
     "execution_count": 45,
     "metadata": {},
     "output_type": "execute_result"
    },
    {
     "name": "stdout",
     "output_type": "stream",
     "text": [
      "frozenset({'beer'}) --> frozenset({'diaper'}) \n",
      " before support: 0.6 , after support: 0.8 , together support: 0.6 , conf: 1.0 , lift: 1.25\n"
     ]
    },
    {
     "data": {
      "text/plain": [
       "[(frozenset({'beer'}), frozenset({'diaper'}), 1.0)]"
      ]
     },
     "execution_count": 45,
     "metadata": {},
     "output_type": "execute_result"
    }
   ],
   "source": [
    "gr = open('./groceries(购物篮).txt')\n",
    "gro = gr.readlines()\n",
    "gro=[gro[i].strip('\\n').split(' ') for i in range(len(gro))]\n",
    "gro\n",
    "support_data,all_freq_transaction=apriori(gro, min_support=0.5)\n",
    "support_data\n",
    "create_rules(support_data,all_freq_transaction,min_conf=0.8)"
   ]
  },
  {
   "cell_type": "code",
   "execution_count": null,
   "metadata": {},
   "outputs": [],
   "source": []
  }
 ],
 "metadata": {
  "kernelspec": {
   "display_name": "Python 3",
   "language": "python",
   "name": "python3"
  },
  "language_info": {
   "codemirror_mode": {
    "name": "ipython",
    "version": 3
   },
   "file_extension": ".py",
   "mimetype": "text/x-python",
   "name": "python",
   "nbconvert_exporter": "python",
   "pygments_lexer": "ipython3",
   "version": "3.7.4"
  }
 },
 "nbformat": 4,
 "nbformat_minor": 2
}
